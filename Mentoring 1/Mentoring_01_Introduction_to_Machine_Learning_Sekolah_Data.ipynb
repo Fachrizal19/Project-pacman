{
  "cells": [
    {
      "cell_type": "markdown",
      "metadata": {
        "id": "Rk-wJshZrKtw"
      },
      "source": [
        "# Mentoring 1 - Introduction to Machine Learning\n",
        "---\n",
        "\n",
        "Mentoring Session - Job Preparation Program - Pacmann AI"
      ]
    },
    {
      "cell_type": "markdown",
      "metadata": {
        "id": "0le3bfkbsWCu"
      },
      "source": [
        "## Instructions\n",
        "---"
      ]
    },
    {
      "cell_type": "markdown",
      "metadata": {
        "id": "6NAWntWqu6Bu"
      },
      "source": [
        "1. Please fill all the given tasks in here\n",
        "2. You can use any library\n",
        "3. For modeling, please use `sklearn` library\n",
        "4. You are taksed to create a function based machine learning model. (If you cannot create the functions from the start, you can create without a function first, then put it all into a function)\n",
        "5. Make sure you are following all the function descriptions\n",
        "6. Submit your result to the submission form"
      ]
    },
    {
      "cell_type": "markdown",
      "metadata": {
        "id": "4VF3H55TwV1f"
      },
      "source": [
        "## Dataset Description\n",
        "---"
      ]
    },
    {
      "cell_type": "markdown",
      "metadata": {
        "id": "pm47UzYPwY1h"
      },
      "source": [
        "**Note**\n",
        "\n",
        "- This dataset originally comes from [Uber Fares Dataset](https://www.kaggle.com/datasets/yasserh/uber-fares-dataset)\n",
        "- We perform several edit for this mentoring purposes. So, please use the dataset from [here](https://drive.google.com/file/d/1-Fr3OMbI1yKU_jNy-6cgXFJDVzjph3sn/view?usp=sharing).\n"
      ]
    },
    {
      "cell_type": "markdown",
      "metadata": {
        "id": "XTVZoo2jw2mv"
      },
      "source": [
        "**Description**\n",
        "- We're looking to predict the fare of Uber's transactions.\n",
        "- The dataset contains of the following fields\n",
        "\n",
        "<center>\n",
        "\n",
        "|Feature|Type|Descriptions|\n",
        "|:--|:--|:--|\n",
        "|`order_id`| `int` | a unique identifier for each trip|\n",
        "|`pickup_time` | `str` | a class of pickup time. `04-10`, `10-16`, `16-22`, `22-04`. E.g. `04-10` means the pickup time is between 04.00 to 10.00|\n",
        "| `pickup_longitude` | `float` | the longitude where the meter was engaged|\n",
        "| `pickup_latitude` | `float` | the latitude where the meter was engaged|\n",
        "| `dropoff_longitude` | `float` | the longitude where the meter was disengaged|\n",
        "| `dropoff_latitude` | `float` | the latitude where the meter was disengaged|\n",
        "| `passenger_count` | `float` | the number of passengers in the vehicle (driver entered value)|\n",
        "| `fare_amount` | `int` | the cost of each trip in USD, (**our target**)|"
      ]
    },
    {
      "cell_type": "markdown",
      "metadata": {
        "id": "VPfdLquFzsoI"
      },
      "source": [
        "## Modeling Workflow\n",
        "---"
      ]
    },
    {
      "cell_type": "markdown",
      "metadata": {
        "id": "wBa9dq-Rsxak"
      },
      "source": [
        "```\n",
        "1. Import data to Python\n",
        "2. Data Preprocessing\n",
        "3. Training a Machine Learning Models\n",
        "4. Test Prediction\n",
        "```"
      ]
    },
    {
      "cell_type": "markdown",
      "metadata": {
        "id": "x_OE7Mklz1Ci"
      },
      "source": [
        "### 1. Import data to Python (10 pts)\n",
        "---"
      ]
    },
    {
      "cell_type": "code",
      "execution_count": 4,
      "metadata": {
        "id": "4r6Yb-EssUkX"
      },
      "outputs": [],
      "source": [
        "####################################################\n",
        "# Import Numpy and Pandas library\n",
        "# Write your code here\n",
        "####################################################\n",
        "import numpy as np \n",
        "import pandas as pd\n",
        "\n",
        "\n"
      ]
    },
    {
      "cell_type": "code",
      "execution_count": 5,
      "metadata": {
        "id": "773jxJ0P0IAq"
      },
      "outputs": [],
      "source": [
        "####################################################\n",
        "# Create a function named read_data\n",
        "# - Has an input of filename, i.e. fname\n",
        "# - Read the data as a Pandas DataFrame\n",
        "# - Drop duplicate on `order_id`, keep the last ones\n",
        "# - Set `order_id` as index\n",
        "# - Print the data shape\n",
        "# - Return the dataset\n",
        "# Write your code here\n",
        "####################################################\n",
        "def read_data(fname):\n",
        "    data = pd.read_csv(fname)\n",
        "    print(\"Data shape raw :\", data.shape)\n",
        "    \n",
        "    data = data.drop_duplicates(subset = \"order_id\", keep = \"last\")\n",
        "    print(\"Number of duplicate order :\", data.duplicated(subset = \"order_id\").sum())\n",
        "   \n",
        "    data = data.set_index(\"order_id\")\n",
        "    print(\"Data shape after dropping :\", data.shape)\n",
        "    print(\"Data shape final :\", data.shape)\n",
        "    return data\n"
      ]
    },
    {
      "cell_type": "code",
      "execution_count": 6,
      "metadata": {
        "colab": {
          "base_uri": "https://localhost:8080/"
        },
        "id": "TFRDR1I-1aDe",
        "outputId": "35c83b27-efd1-4f7f-da34-fc72abad7257"
      },
      "outputs": [
        {
          "name": "stdout",
          "output_type": "stream",
          "text": [
            "Data shape raw : (194814, 8)\n",
            "Number of duplicate order : 0\n",
            "Data shape after dropping : (194814, 7)\n",
            "Data shape final : (194814, 7)\n"
          ]
        }
      ],
      "source": [
        "# Read the Uber data (JUST RUN THE CODE)\n",
        "data = read_data(fname='uber_edit.csv')"
      ]
    },
    {
      "cell_type": "code",
      "execution_count": 7,
      "metadata": {
        "colab": {
          "base_uri": "https://localhost:8080/",
          "height": 258
        },
        "id": "N8eIfaVU3QJS",
        "outputId": "ba5a6b3e-d60d-4bc5-9585-a6df87bc9b4d"
      },
      "outputs": [
        {
          "data": {
            "text/html": [
              "<div>\n",
              "<style scoped>\n",
              "    .dataframe tbody tr th:only-of-type {\n",
              "        vertical-align: middle;\n",
              "    }\n",
              "\n",
              "    .dataframe tbody tr th {\n",
              "        vertical-align: top;\n",
              "    }\n",
              "\n",
              "    .dataframe thead th {\n",
              "        text-align: right;\n",
              "    }\n",
              "</style>\n",
              "<table border=\"1\" class=\"dataframe\">\n",
              "  <thead>\n",
              "    <tr style=\"text-align: right;\">\n",
              "      <th></th>\n",
              "      <th>fare_amount</th>\n",
              "      <th>pickup_time</th>\n",
              "      <th>pickup_longitude</th>\n",
              "      <th>pickup_latitude</th>\n",
              "      <th>dropoff_longitude</th>\n",
              "      <th>dropoff_latitude</th>\n",
              "      <th>passenger_count</th>\n",
              "    </tr>\n",
              "    <tr>\n",
              "      <th>order_id</th>\n",
              "      <th></th>\n",
              "      <th></th>\n",
              "      <th></th>\n",
              "      <th></th>\n",
              "      <th></th>\n",
              "      <th></th>\n",
              "      <th></th>\n",
              "    </tr>\n",
              "  </thead>\n",
              "  <tbody>\n",
              "    <tr>\n",
              "      <th>24238194</th>\n",
              "      <td>7.5</td>\n",
              "      <td>16-22</td>\n",
              "      <td>-73.999817</td>\n",
              "      <td>40.738354</td>\n",
              "      <td>-73.999512</td>\n",
              "      <td>40.723217</td>\n",
              "      <td>1.0</td>\n",
              "    </tr>\n",
              "    <tr>\n",
              "      <th>27835199</th>\n",
              "      <td>7.7</td>\n",
              "      <td>16-22</td>\n",
              "      <td>-73.994355</td>\n",
              "      <td>40.728225</td>\n",
              "      <td>-73.994710</td>\n",
              "      <td>40.750325</td>\n",
              "      <td>1.0</td>\n",
              "    </tr>\n",
              "    <tr>\n",
              "      <th>44984355</th>\n",
              "      <td>12.9</td>\n",
              "      <td>16-22</td>\n",
              "      <td>-74.005043</td>\n",
              "      <td>40.740770</td>\n",
              "      <td>-73.962565</td>\n",
              "      <td>40.772647</td>\n",
              "      <td>1.0</td>\n",
              "    </tr>\n",
              "    <tr>\n",
              "      <th>25894730</th>\n",
              "      <td>5.3</td>\n",
              "      <td>04-10</td>\n",
              "      <td>-73.976124</td>\n",
              "      <td>40.790844</td>\n",
              "      <td>-73.965316</td>\n",
              "      <td>40.803349</td>\n",
              "      <td>3.0</td>\n",
              "    </tr>\n",
              "    <tr>\n",
              "      <th>17610152</th>\n",
              "      <td>16.0</td>\n",
              "      <td>16-22</td>\n",
              "      <td>-73.925023</td>\n",
              "      <td>40.744085</td>\n",
              "      <td>-73.973082</td>\n",
              "      <td>40.761247</td>\n",
              "      <td>5.0</td>\n",
              "    </tr>\n",
              "  </tbody>\n",
              "</table>\n",
              "</div>"
            ],
            "text/plain": [
              "          fare_amount pickup_time  pickup_longitude  pickup_latitude  \\\n",
              "order_id                                                               \n",
              "24238194          7.5       16-22        -73.999817        40.738354   \n",
              "27835199          7.7       16-22        -73.994355        40.728225   \n",
              "44984355         12.9       16-22        -74.005043        40.740770   \n",
              "25894730          5.3       04-10        -73.976124        40.790844   \n",
              "17610152         16.0       16-22        -73.925023        40.744085   \n",
              "\n",
              "          dropoff_longitude  dropoff_latitude  passenger_count  \n",
              "order_id                                                        \n",
              "24238194         -73.999512         40.723217              1.0  \n",
              "27835199         -73.994710         40.750325              1.0  \n",
              "44984355         -73.962565         40.772647              1.0  \n",
              "25894730         -73.965316         40.803349              3.0  \n",
              "17610152         -73.973082         40.761247              5.0  "
            ]
          },
          "execution_count": 7,
          "metadata": {},
          "output_type": "execute_result"
        }
      ],
      "source": [
        "# JUST RUN THE CODE\n",
        "data.head()"
      ]
    },
    {
      "cell_type": "markdown",
      "metadata": {
        "id": "2OzWPGFk3iwl"
      },
      "source": [
        "### 2. Data Preprocessing (60 pts)\n",
        "---"
      ]
    },
    {
      "cell_type": "markdown",
      "metadata": {
        "id": "XP-LVEz8MmLe"
      },
      "source": [
        "**The processing pipeline**\n",
        "```\n",
        "2.1 Input-Output Split\n",
        "2.2 Train-Valid-Test Split\n",
        "2.3 Separate Numerical and Categorical Features\n",
        "2.4 Numerical Imputation\n",
        "2.5 Categorical Imputation\n",
        "2.6 Preprocess Categorical Features\n",
        "2.7 Join the Data\n",
        "2.8 Feature Engineering the Data\n",
        "2.9 Create a Preprocessing Function\n",
        "```"
      ]
    },
    {
      "cell_type": "markdown",
      "metadata": {
        "id": "MPzQ-1Wz3lgP"
      },
      "source": [
        "#### 2.1. Input-Output Split (6 pts)\n",
        "---"
      ]
    },
    {
      "cell_type": "markdown",
      "metadata": {
        "id": "d0eNiv8J3ogi"
      },
      "source": [
        "- We're going to split input & output according to the modeling objective.\n",
        "- Create a function to split the input & output"
      ]
    },
    {
      "cell_type": "code",
      "execution_count": 8,
      "metadata": {
        "id": "7JLABNi-3ktA"
      },
      "outputs": [],
      "source": [
        "####################################################\n",
        "# Create a function named split_input_output\n",
        "# - Has two arguments\n",
        "#   - data, a pd Dataframe\n",
        "#   - target_col, a column (str)\n",
        "# - Print the data shape after splitting\n",
        "# - Return X, y\n",
        "# Write your code here\n",
        "####################################################\n",
        "\n",
        "def split_input_output(data, target_col):\n",
        "    \n",
        "    X = data.drop(target_col, axis = 1)\n",
        "    y = data[target_col]\n",
        "    \n",
        "    print(\"x shape = \", (X.shape))\n",
        "    print(\"y shape = \", (y.shape))    \n",
        "     \n",
        "    \n",
        "    return X, y\n"
      ]
    },
    {
      "cell_type": "code",
      "execution_count": 9,
      "metadata": {
        "colab": {
          "base_uri": "https://localhost:8080/"
        },
        "id": "oN8Kuzkf4hgN",
        "outputId": "a2dcb8dc-7508-4a67-dae1-c07244bf3485"
      },
      "outputs": [
        {
          "name": "stdout",
          "output_type": "stream",
          "text": [
            "x shape =  (194814, 6)\n",
            "y shape =  (194814,)\n"
          ]
        }
      ],
      "source": [
        "# Load the train data only (JUST RUN THE CODE)\n",
        "X, y = split_input_output(data=data,\n",
        "                          target_col=\"fare_amount\")\n"
      ]
    },
    {
      "cell_type": "code",
      "execution_count": 10,
      "metadata": {
        "colab": {
          "base_uri": "https://localhost:8080/"
        },
        "id": "ScJnHQsZ45Lf",
        "outputId": "8999f793-e31c-48ae-dc22-6d2c92844543"
      },
      "outputs": [
        {
          "data": {
            "text/html": [
              "<div>\n",
              "<style scoped>\n",
              "    .dataframe tbody tr th:only-of-type {\n",
              "        vertical-align: middle;\n",
              "    }\n",
              "\n",
              "    .dataframe tbody tr th {\n",
              "        vertical-align: top;\n",
              "    }\n",
              "\n",
              "    .dataframe thead th {\n",
              "        text-align: right;\n",
              "    }\n",
              "</style>\n",
              "<table border=\"1\" class=\"dataframe\">\n",
              "  <thead>\n",
              "    <tr style=\"text-align: right;\">\n",
              "      <th></th>\n",
              "      <th>pickup_time</th>\n",
              "      <th>pickup_longitude</th>\n",
              "      <th>pickup_latitude</th>\n",
              "      <th>dropoff_longitude</th>\n",
              "      <th>dropoff_latitude</th>\n",
              "      <th>passenger_count</th>\n",
              "    </tr>\n",
              "    <tr>\n",
              "      <th>order_id</th>\n",
              "      <th></th>\n",
              "      <th></th>\n",
              "      <th></th>\n",
              "      <th></th>\n",
              "      <th></th>\n",
              "      <th></th>\n",
              "    </tr>\n",
              "  </thead>\n",
              "  <tbody>\n",
              "    <tr>\n",
              "      <th>24238194</th>\n",
              "      <td>16-22</td>\n",
              "      <td>-73.999817</td>\n",
              "      <td>40.738354</td>\n",
              "      <td>-73.999512</td>\n",
              "      <td>40.723217</td>\n",
              "      <td>1.0</td>\n",
              "    </tr>\n",
              "    <tr>\n",
              "      <th>27835199</th>\n",
              "      <td>16-22</td>\n",
              "      <td>-73.994355</td>\n",
              "      <td>40.728225</td>\n",
              "      <td>-73.994710</td>\n",
              "      <td>40.750325</td>\n",
              "      <td>1.0</td>\n",
              "    </tr>\n",
              "    <tr>\n",
              "      <th>44984355</th>\n",
              "      <td>16-22</td>\n",
              "      <td>-74.005043</td>\n",
              "      <td>40.740770</td>\n",
              "      <td>-73.962565</td>\n",
              "      <td>40.772647</td>\n",
              "      <td>1.0</td>\n",
              "    </tr>\n",
              "    <tr>\n",
              "      <th>25894730</th>\n",
              "      <td>04-10</td>\n",
              "      <td>-73.976124</td>\n",
              "      <td>40.790844</td>\n",
              "      <td>-73.965316</td>\n",
              "      <td>40.803349</td>\n",
              "      <td>3.0</td>\n",
              "    </tr>\n",
              "    <tr>\n",
              "      <th>17610152</th>\n",
              "      <td>16-22</td>\n",
              "      <td>-73.925023</td>\n",
              "      <td>40.744085</td>\n",
              "      <td>-73.973082</td>\n",
              "      <td>40.761247</td>\n",
              "      <td>5.0</td>\n",
              "    </tr>\n",
              "  </tbody>\n",
              "</table>\n",
              "</div>"
            ],
            "text/plain": [
              "         pickup_time  pickup_longitude  pickup_latitude  dropoff_longitude  \\\n",
              "order_id                                                                     \n",
              "24238194       16-22        -73.999817        40.738354         -73.999512   \n",
              "27835199       16-22        -73.994355        40.728225         -73.994710   \n",
              "44984355       16-22        -74.005043        40.740770         -73.962565   \n",
              "25894730       04-10        -73.976124        40.790844         -73.965316   \n",
              "17610152       16-22        -73.925023        40.744085         -73.973082   \n",
              "\n",
              "          dropoff_latitude  passenger_count  \n",
              "order_id                                     \n",
              "24238194         40.723217              1.0  \n",
              "27835199         40.750325              1.0  \n",
              "44984355         40.772647              1.0  \n",
              "25894730         40.803349              3.0  \n",
              "17610152         40.761247              5.0  "
            ]
          },
          "execution_count": 10,
          "metadata": {},
          "output_type": "execute_result"
        }
      ],
      "source": [
        "X.head()  # (JUST RUN THE CODE)\n"
      ]
    },
    {
      "cell_type": "code",
      "execution_count": 11,
      "metadata": {
        "colab": {
          "base_uri": "https://localhost:8080/"
        },
        "id": "hvvwO3A547u1",
        "outputId": "fa95702d-7c15-40e3-8c19-7364e11fec4a"
      },
      "outputs": [
        {
          "data": {
            "text/plain": [
              "order_id\n",
              "24238194     7.5\n",
              "27835199     7.7\n",
              "44984355    12.9\n",
              "25894730     5.3\n",
              "17610152    16.0\n",
              "Name: fare_amount, dtype: float64"
            ]
          },
          "execution_count": 11,
          "metadata": {},
          "output_type": "execute_result"
        }
      ],
      "source": [
        "y.head()  # (JUST RUN THE CODE)"
      ]
    },
    {
      "cell_type": "markdown",
      "metadata": {
        "id": "zO3YDDwc5qQ-"
      },
      "source": [
        "#### 2.2. Train-Valid-Test Split (6 pts)\n",
        "---"
      ]
    },
    {
      "cell_type": "markdown",
      "metadata": {
        "id": "kFA5PsKQ5qRN"
      },
      "source": [
        "- Now, we want to split the data before modeling.\n",
        "- Split the data into three set:\n",
        "  - Train, for training the model\n",
        "  - Validation, for choosing the best model\n",
        "  - Test, for error generalization\n",
        "\n",
        "- You should make the splitting proportion train (80%), valid (10%), and test (10%)"
      ]
    },
    {
      "cell_type": "code",
      "execution_count": 12,
      "metadata": {
        "id": "5LTodPoF5qRN"
      },
      "outputs": [],
      "source": [
        "####################################################\n",
        "# Create a function named split_train_test\n",
        "# - Has two arguments\n",
        "#   - X, the input (pd.Dataframe)\n",
        "#   - y, the output (pd.Dataframe)\n",
        "#   - test_size, the test size between 0-1 (float)\n",
        "#   - seed, the random state (int)\n",
        "# - Print the data shape after splitting\n",
        "# - Return X_train, X_test, y_train, y_test\n",
        "# - You can use an sklearn library to help you\n",
        "# Write your code here\n",
        "####################################################\n",
        "from sklearn.model_selection import train_test_split\n",
        "\n",
        "def split_train_test (X, y, test_size, seed):\n",
        "    \n",
        "    X_train, X_test, y_train, y_test = train_test_split(X, y, test_size = test_size, random_state = seed)\n",
        "   \n",
        "    \n",
        "    print(\"X train shape = \", (X_train.shape))\n",
        "    print(\"X test shape = \", (X_test.shape))\n",
        "    print(\"y train shape = \", (y_train.shape))\n",
        "    print(\"y test shape = \", (y_test.shape))\n",
        "    print(\"\\n\")\n",
        "    \n",
        "    return X_train, X_test, y_train, y_test\n",
        "\n"
      ]
    },
    {
      "cell_type": "code",
      "execution_count": 13,
      "metadata": {
        "colab": {
          "base_uri": "https://localhost:8080/"
        },
        "id": "1F6TPylm49KB",
        "outputId": "63fed923-a3a5-4288-b12b-114f6b1f81cf"
      },
      "outputs": [
        {
          "name": "stdout",
          "output_type": "stream",
          "text": [
            "X train shape =  (155851, 6)\n",
            "X test shape =  (38963, 6)\n",
            "y train shape =  (155851,)\n",
            "y test shape =  (38963,)\n",
            "\n",
            "\n",
            "X train shape =  (19481, 6)\n",
            "X test shape =  (19482, 6)\n",
            "y train shape =  (19481,)\n",
            "y test shape =  (19482,)\n",
            "\n",
            "\n"
          ]
        }
      ],
      "source": [
        "\n",
        "\n",
        "# Split the data\n",
        "# First, split the train & not train\n",
        "X_train, X_not_train, y_train, y_not_train = split_train_test(X, y, test_size=0.2, seed=123) # WRITE YOUR CODE HERE, Use seed=123\n",
        "\n",
        "# Then, split the valid & test\n",
        "X_valid, X_test, y_valid, y_test = split_train_test(X_not_train, y_not_train, test_size=0.5, seed=123) # WRITE YOUR CODE HERE, Use seed=123"
      ]
    },
    {
      "cell_type": "code",
      "execution_count": 14,
      "metadata": {},
      "outputs": [
        {
          "name": "stdout",
          "output_type": "stream",
          "text": [
            "         pickup_time  pickup_longitude  pickup_latitude  dropoff_longitude  \\\n",
            "order_id                                                                     \n",
            "14247023       04-10        -73.971322        40.782660         -73.974827   \n",
            "8895436        10-16        -73.976532        40.788303         -73.953790   \n",
            "2629146        16-22        -73.985207        40.727687         -73.990233   \n",
            "44013506       16-22        -73.979759        40.765380         -73.962913   \n",
            "45733844       10-16        -74.008128        40.704563         -74.005905   \n",
            "...              ...               ...              ...                ...   \n",
            "24594478       10-16        -73.787870        40.641707         -73.985225   \n",
            "31250152       16-22        -73.974871        40.756650         -73.996747   \n",
            "29666413       16-22        -73.972322        40.677143         -74.007920   \n",
            "30814357       04-10        -74.000913        40.752358         -73.990015   \n",
            "15098518       10-16        -73.971738        40.763610         -73.958330   \n",
            "\n",
            "          dropoff_latitude  passenger_count  \n",
            "order_id                                     \n",
            "14247023         40.756325              2.0  \n",
            "8895436          40.802015              1.0  \n",
            "2629146          40.748367              1.0  \n",
            "44013506         40.809519              1.0  \n",
            "45733844         40.711753              1.0  \n",
            "...                    ...              ...  \n",
            "24594478         40.756185              1.0  \n",
            "31250152         40.719041              1.0  \n",
            "29666413         40.740376              1.0  \n",
            "30814357         40.756898              1.0  \n",
            "15098518         40.773115              1.0  \n",
            "\n",
            "[38963 rows x 6 columns]\n",
            "order_id\n",
            "14247023     8.50\n",
            "8895436      9.30\n",
            "2629146      8.10\n",
            "44013506     8.10\n",
            "45733844     4.90\n",
            "            ...  \n",
            "24594478    57.33\n",
            "31250152    12.90\n",
            "29666413    18.90\n",
            "30814357     7.00\n",
            "15098518     7.00\n",
            "Name: fare_amount, Length: 38963, dtype: float64\n"
          ]
        }
      ],
      "source": [
        "print(X_not_train)\n",
        "print(y_not_train)"
      ]
    },
    {
      "cell_type": "code",
      "execution_count": 15,
      "metadata": {
        "colab": {
          "base_uri": "https://localhost:8080/"
        },
        "id": "4gTzpb627pJB",
        "outputId": "d1a3a905-4ed5-4dea-b087-bef5575678f5"
      },
      "outputs": [
        {
          "name": "stdout",
          "output_type": "stream",
          "text": [
            "0.7999989733797366\n",
            "0.09999794675947314\n",
            "0.1000030798607903\n"
          ]
        }
      ],
      "source": [
        "# Validate (JUST RUN THE CODE)\n",
        "print(len(X_train)/len(X))  # should be 0.8\n",
        "print(len(X_valid)/len(X))  # should be 0.1\n",
        "print(len(X_test)/len(X))   # should be 0.1"
      ]
    },
    {
      "cell_type": "code",
      "execution_count": 16,
      "metadata": {
        "colab": {
          "base_uri": "https://localhost:8080/"
        },
        "id": "E6GgKZ5Z-d-A",
        "outputId": "8c051c7d-b561-4ded-e230-b16deafed4e9"
      },
      "outputs": [
        {
          "data": {
            "text/html": [
              "<div>\n",
              "<style scoped>\n",
              "    .dataframe tbody tr th:only-of-type {\n",
              "        vertical-align: middle;\n",
              "    }\n",
              "\n",
              "    .dataframe tbody tr th {\n",
              "        vertical-align: top;\n",
              "    }\n",
              "\n",
              "    .dataframe thead th {\n",
              "        text-align: right;\n",
              "    }\n",
              "</style>\n",
              "<table border=\"1\" class=\"dataframe\">\n",
              "  <thead>\n",
              "    <tr style=\"text-align: right;\">\n",
              "      <th></th>\n",
              "      <th>pickup_time</th>\n",
              "      <th>pickup_longitude</th>\n",
              "      <th>pickup_latitude</th>\n",
              "      <th>dropoff_longitude</th>\n",
              "      <th>dropoff_latitude</th>\n",
              "      <th>passenger_count</th>\n",
              "    </tr>\n",
              "    <tr>\n",
              "      <th>order_id</th>\n",
              "      <th></th>\n",
              "      <th></th>\n",
              "      <th></th>\n",
              "      <th></th>\n",
              "      <th></th>\n",
              "      <th></th>\n",
              "    </tr>\n",
              "  </thead>\n",
              "  <tbody>\n",
              "    <tr>\n",
              "      <th>51655713</th>\n",
              "      <td>16-22</td>\n",
              "      <td>-73.979392</td>\n",
              "      <td>40.735734</td>\n",
              "      <td>-73.906281</td>\n",
              "      <td>40.745539</td>\n",
              "      <td>2.0</td>\n",
              "    </tr>\n",
              "    <tr>\n",
              "      <th>37525839</th>\n",
              "      <td>16-22</td>\n",
              "      <td>-73.986575</td>\n",
              "      <td>40.761473</td>\n",
              "      <td>-73.981880</td>\n",
              "      <td>40.768660</td>\n",
              "      <td>5.0</td>\n",
              "    </tr>\n",
              "    <tr>\n",
              "      <th>55058970</th>\n",
              "      <td>16-22</td>\n",
              "      <td>-73.972533</td>\n",
              "      <td>40.782260</td>\n",
              "      <td>-73.952761</td>\n",
              "      <td>40.708980</td>\n",
              "      <td>1.0</td>\n",
              "    </tr>\n",
              "    <tr>\n",
              "      <th>15663447</th>\n",
              "      <td>10-16</td>\n",
              "      <td>-73.979967</td>\n",
              "      <td>40.751612</td>\n",
              "      <td>-73.976313</td>\n",
              "      <td>40.758427</td>\n",
              "      <td>6.0</td>\n",
              "    </tr>\n",
              "    <tr>\n",
              "      <th>13325650</th>\n",
              "      <td>16-22</td>\n",
              "      <td>-73.976192</td>\n",
              "      <td>40.744026</td>\n",
              "      <td>-73.980935</td>\n",
              "      <td>40.733946</td>\n",
              "      <td>1.0</td>\n",
              "    </tr>\n",
              "  </tbody>\n",
              "</table>\n",
              "</div>"
            ],
            "text/plain": [
              "         pickup_time  pickup_longitude  pickup_latitude  dropoff_longitude  \\\n",
              "order_id                                                                     \n",
              "51655713       16-22        -73.979392        40.735734         -73.906281   \n",
              "37525839       16-22        -73.986575        40.761473         -73.981880   \n",
              "55058970       16-22        -73.972533        40.782260         -73.952761   \n",
              "15663447       10-16        -73.979967        40.751612         -73.976313   \n",
              "13325650       16-22        -73.976192        40.744026         -73.980935   \n",
              "\n",
              "          dropoff_latitude  passenger_count  \n",
              "order_id                                     \n",
              "51655713         40.745539              2.0  \n",
              "37525839         40.768660              5.0  \n",
              "55058970         40.708980              1.0  \n",
              "15663447         40.758427              6.0  \n",
              "13325650         40.733946              1.0  "
            ]
          },
          "execution_count": 16,
          "metadata": {},
          "output_type": "execute_result"
        }
      ],
      "source": [
        "X_train.head()  # (JUST RUN THE CODE)"
      ]
    },
    {
      "cell_type": "code",
      "execution_count": 17,
      "metadata": {},
      "outputs": [
        {
          "data": {
            "text/html": [
              "<div>\n",
              "<style scoped>\n",
              "    .dataframe tbody tr th:only-of-type {\n",
              "        vertical-align: middle;\n",
              "    }\n",
              "\n",
              "    .dataframe tbody tr th {\n",
              "        vertical-align: top;\n",
              "    }\n",
              "\n",
              "    .dataframe thead th {\n",
              "        text-align: right;\n",
              "    }\n",
              "</style>\n",
              "<table border=\"1\" class=\"dataframe\">\n",
              "  <thead>\n",
              "    <tr style=\"text-align: right;\">\n",
              "      <th></th>\n",
              "      <th>pickup_time</th>\n",
              "      <th>pickup_longitude</th>\n",
              "      <th>pickup_latitude</th>\n",
              "      <th>dropoff_longitude</th>\n",
              "      <th>dropoff_latitude</th>\n",
              "      <th>passenger_count</th>\n",
              "    </tr>\n",
              "    <tr>\n",
              "      <th>order_id</th>\n",
              "      <th></th>\n",
              "      <th></th>\n",
              "      <th></th>\n",
              "      <th></th>\n",
              "      <th></th>\n",
              "      <th></th>\n",
              "    </tr>\n",
              "  </thead>\n",
              "  <tbody>\n",
              "    <tr>\n",
              "      <th>21821145</th>\n",
              "      <td>22-04</td>\n",
              "      <td>-73.977407</td>\n",
              "      <td>40.787420</td>\n",
              "      <td>-73.981681</td>\n",
              "      <td>40.779710</td>\n",
              "      <td>1.0</td>\n",
              "    </tr>\n",
              "    <tr>\n",
              "      <th>29648992</th>\n",
              "      <td>16-22</td>\n",
              "      <td>-73.968118</td>\n",
              "      <td>40.762640</td>\n",
              "      <td>-73.981218</td>\n",
              "      <td>40.743978</td>\n",
              "      <td>2.0</td>\n",
              "    </tr>\n",
              "    <tr>\n",
              "      <th>7294406</th>\n",
              "      <td>10-16</td>\n",
              "      <td>-74.002565</td>\n",
              "      <td>40.739638</td>\n",
              "      <td>-74.002530</td>\n",
              "      <td>40.748657</td>\n",
              "      <td>3.0</td>\n",
              "    </tr>\n",
              "    <tr>\n",
              "      <th>36199153</th>\n",
              "      <td>10-16</td>\n",
              "      <td>-73.990273</td>\n",
              "      <td>40.752152</td>\n",
              "      <td>-73.965520</td>\n",
              "      <td>40.763480</td>\n",
              "      <td>3.0</td>\n",
              "    </tr>\n",
              "    <tr>\n",
              "      <th>24870627</th>\n",
              "      <td>10-16</td>\n",
              "      <td>-73.982379</td>\n",
              "      <td>40.748521</td>\n",
              "      <td>-73.975392</td>\n",
              "      <td>40.758517</td>\n",
              "      <td>1.0</td>\n",
              "    </tr>\n",
              "  </tbody>\n",
              "</table>\n",
              "</div>"
            ],
            "text/plain": [
              "         pickup_time  pickup_longitude  pickup_latitude  dropoff_longitude  \\\n",
              "order_id                                                                     \n",
              "21821145       22-04        -73.977407        40.787420         -73.981681   \n",
              "29648992       16-22        -73.968118        40.762640         -73.981218   \n",
              "7294406        10-16        -74.002565        40.739638         -74.002530   \n",
              "36199153       10-16        -73.990273        40.752152         -73.965520   \n",
              "24870627       10-16        -73.982379        40.748521         -73.975392   \n",
              "\n",
              "          dropoff_latitude  passenger_count  \n",
              "order_id                                     \n",
              "21821145         40.779710              1.0  \n",
              "29648992         40.743978              2.0  \n",
              "7294406          40.748657              3.0  \n",
              "36199153         40.763480              3.0  \n",
              "24870627         40.758517              1.0  "
            ]
          },
          "execution_count": 17,
          "metadata": {},
          "output_type": "execute_result"
        }
      ],
      "source": [
        "X_valid.head()"
      ]
    },
    {
      "cell_type": "code",
      "execution_count": 18,
      "metadata": {},
      "outputs": [
        {
          "data": {
            "text/html": [
              "<div>\n",
              "<style scoped>\n",
              "    .dataframe tbody tr th:only-of-type {\n",
              "        vertical-align: middle;\n",
              "    }\n",
              "\n",
              "    .dataframe tbody tr th {\n",
              "        vertical-align: top;\n",
              "    }\n",
              "\n",
              "    .dataframe thead th {\n",
              "        text-align: right;\n",
              "    }\n",
              "</style>\n",
              "<table border=\"1\" class=\"dataframe\">\n",
              "  <thead>\n",
              "    <tr style=\"text-align: right;\">\n",
              "      <th></th>\n",
              "      <th>pickup_time</th>\n",
              "      <th>pickup_longitude</th>\n",
              "      <th>pickup_latitude</th>\n",
              "      <th>dropoff_longitude</th>\n",
              "      <th>dropoff_latitude</th>\n",
              "      <th>passenger_count</th>\n",
              "    </tr>\n",
              "    <tr>\n",
              "      <th>order_id</th>\n",
              "      <th></th>\n",
              "      <th></th>\n",
              "      <th></th>\n",
              "      <th></th>\n",
              "      <th></th>\n",
              "      <th></th>\n",
              "    </tr>\n",
              "  </thead>\n",
              "  <tbody>\n",
              "    <tr>\n",
              "      <th>40871174</th>\n",
              "      <td>16-22</td>\n",
              "      <td>-73.996420</td>\n",
              "      <td>40.721390</td>\n",
              "      <td>-73.991843</td>\n",
              "      <td>40.726090</td>\n",
              "      <td>2.0</td>\n",
              "    </tr>\n",
              "    <tr>\n",
              "      <th>31187540</th>\n",
              "      <td>16-22</td>\n",
              "      <td>-73.981248</td>\n",
              "      <td>40.769185</td>\n",
              "      <td>-73.973245</td>\n",
              "      <td>40.785022</td>\n",
              "      <td>1.0</td>\n",
              "    </tr>\n",
              "    <tr>\n",
              "      <th>30455562</th>\n",
              "      <td>22-04</td>\n",
              "      <td>-73.982342</td>\n",
              "      <td>40.753909</td>\n",
              "      <td>-73.949045</td>\n",
              "      <td>40.774976</td>\n",
              "      <td>1.0</td>\n",
              "    </tr>\n",
              "    <tr>\n",
              "      <th>33371988</th>\n",
              "      <td>04-10</td>\n",
              "      <td>-73.990311</td>\n",
              "      <td>40.761501</td>\n",
              "      <td>-73.973953</td>\n",
              "      <td>40.764660</td>\n",
              "      <td>3.0</td>\n",
              "    </tr>\n",
              "    <tr>\n",
              "      <th>6834592</th>\n",
              "      <td>22-04</td>\n",
              "      <td>-73.983022</td>\n",
              "      <td>40.777505</td>\n",
              "      <td>-73.991477</td>\n",
              "      <td>40.750002</td>\n",
              "      <td>6.0</td>\n",
              "    </tr>\n",
              "  </tbody>\n",
              "</table>\n",
              "</div>"
            ],
            "text/plain": [
              "         pickup_time  pickup_longitude  pickup_latitude  dropoff_longitude  \\\n",
              "order_id                                                                     \n",
              "40871174       16-22        -73.996420        40.721390         -73.991843   \n",
              "31187540       16-22        -73.981248        40.769185         -73.973245   \n",
              "30455562       22-04        -73.982342        40.753909         -73.949045   \n",
              "33371988       04-10        -73.990311        40.761501         -73.973953   \n",
              "6834592        22-04        -73.983022        40.777505         -73.991477   \n",
              "\n",
              "          dropoff_latitude  passenger_count  \n",
              "order_id                                     \n",
              "40871174         40.726090              2.0  \n",
              "31187540         40.785022              1.0  \n",
              "30455562         40.774976              1.0  \n",
              "33371988         40.764660              3.0  \n",
              "6834592          40.750002              6.0  "
            ]
          },
          "execution_count": 18,
          "metadata": {},
          "output_type": "execute_result"
        }
      ],
      "source": [
        "X_test.head()"
      ]
    },
    {
      "cell_type": "markdown",
      "metadata": {
        "id": "wZ5rwYBA88lQ"
      },
      "source": [
        "#### 2.3. Separate Numerical and Categorical Features (6 pts)\n",
        "---"
      ]
    },
    {
      "cell_type": "markdown",
      "metadata": {
        "id": "JaRGC1IJ88lU"
      },
      "source": [
        "- We now prepare to perform data preprocessing\n",
        "- But, we first separate the data into numerical data & categorical data."
      ]
    },
    {
      "cell_type": "code",
      "execution_count": 19,
      "metadata": {
        "id": "BTNHnHRi899V"
      },
      "outputs": [],
      "source": [
        "####################################################\n",
        "# Create a function to split numerical & categorical input\n",
        "# - you have three parameters\n",
        "#   - data, an input data (pd. Dataframe)\n",
        "#   - num_cols, a list of numerical columns (list)\n",
        "#   - cat_cols, a list of categorical columns (list)\n",
        "# - and write a validation that you perform right operation\n",
        "# - and return two dataframe, numerical & categorical data\n",
        "# Write your code here\n",
        "####################################################\n",
        "\n",
        "def split_num_cat(data, num_cols, cat_cols):\n",
        "    X_num = data[num_cols]\n",
        "    X_cat = data[cat_cols]\n",
        "    \n",
        "    print(\"X num phase = \", (X_num.shape))\n",
        "    print(\"X cat phase = \", (X_cat.shape))\n",
        "    \n",
        "    return X_num, X_cat\n",
        "\n",
        "X_num_columns = [\"pickup_longitude\", \"pickup_latitude\", \"dropoff_longitude\", \"dropoff_latitude\", \"passenger_count\"]\n",
        "X_train_columns = list(X_train.columns)\n",
        "X_cat_columns = list(set (X_train_columns) - set (X_num_columns))"
      ]
    },
    {
      "cell_type": "code",
      "execution_count": 20,
      "metadata": {
        "colab": {
          "base_uri": "https://localhost:8080/"
        },
        "id": "kYkiongB-muK",
        "outputId": "56a8f4a3-9199-49fe-b6ab-d325175d7d64"
      },
      "outputs": [
        {
          "name": "stdout",
          "output_type": "stream",
          "text": [
            "X num phase =  (155851, 5)\n",
            "X cat phase =  (155851, 1)\n"
          ]
        }
      ],
      "source": [
        "# Split the data\n",
        "X_train_num, X_train_cat = split_num_cat(data = X_train, \n",
        "                                        num_cols = X_num_columns, \n",
        "                                        cat_cols = X_cat_columns)# WRITE YOUR CODE HERE\n",
        "\n"
      ]
    },
    {
      "cell_type": "code",
      "execution_count": 21,
      "metadata": {
        "colab": {
          "base_uri": "https://localhost:8080/"
        },
        "id": "6qd1II0a-0og",
        "outputId": "0e585e71-4234-44df-d84f-0651d69efe5d"
      },
      "outputs": [
        {
          "data": {
            "text/html": [
              "<div>\n",
              "<style scoped>\n",
              "    .dataframe tbody tr th:only-of-type {\n",
              "        vertical-align: middle;\n",
              "    }\n",
              "\n",
              "    .dataframe tbody tr th {\n",
              "        vertical-align: top;\n",
              "    }\n",
              "\n",
              "    .dataframe thead th {\n",
              "        text-align: right;\n",
              "    }\n",
              "</style>\n",
              "<table border=\"1\" class=\"dataframe\">\n",
              "  <thead>\n",
              "    <tr style=\"text-align: right;\">\n",
              "      <th></th>\n",
              "      <th>pickup_longitude</th>\n",
              "      <th>pickup_latitude</th>\n",
              "      <th>dropoff_longitude</th>\n",
              "      <th>dropoff_latitude</th>\n",
              "      <th>passenger_count</th>\n",
              "    </tr>\n",
              "    <tr>\n",
              "      <th>order_id</th>\n",
              "      <th></th>\n",
              "      <th></th>\n",
              "      <th></th>\n",
              "      <th></th>\n",
              "      <th></th>\n",
              "    </tr>\n",
              "  </thead>\n",
              "  <tbody>\n",
              "    <tr>\n",
              "      <th>51655713</th>\n",
              "      <td>-73.979392</td>\n",
              "      <td>40.735734</td>\n",
              "      <td>-73.906281</td>\n",
              "      <td>40.745539</td>\n",
              "      <td>2.0</td>\n",
              "    </tr>\n",
              "    <tr>\n",
              "      <th>37525839</th>\n",
              "      <td>-73.986575</td>\n",
              "      <td>40.761473</td>\n",
              "      <td>-73.981880</td>\n",
              "      <td>40.768660</td>\n",
              "      <td>5.0</td>\n",
              "    </tr>\n",
              "    <tr>\n",
              "      <th>55058970</th>\n",
              "      <td>-73.972533</td>\n",
              "      <td>40.782260</td>\n",
              "      <td>-73.952761</td>\n",
              "      <td>40.708980</td>\n",
              "      <td>1.0</td>\n",
              "    </tr>\n",
              "    <tr>\n",
              "      <th>15663447</th>\n",
              "      <td>-73.979967</td>\n",
              "      <td>40.751612</td>\n",
              "      <td>-73.976313</td>\n",
              "      <td>40.758427</td>\n",
              "      <td>6.0</td>\n",
              "    </tr>\n",
              "    <tr>\n",
              "      <th>13325650</th>\n",
              "      <td>-73.976192</td>\n",
              "      <td>40.744026</td>\n",
              "      <td>-73.980935</td>\n",
              "      <td>40.733946</td>\n",
              "      <td>1.0</td>\n",
              "    </tr>\n",
              "  </tbody>\n",
              "</table>\n",
              "</div>"
            ],
            "text/plain": [
              "          pickup_longitude  pickup_latitude  dropoff_longitude  \\\n",
              "order_id                                                         \n",
              "51655713        -73.979392        40.735734         -73.906281   \n",
              "37525839        -73.986575        40.761473         -73.981880   \n",
              "55058970        -73.972533        40.782260         -73.952761   \n",
              "15663447        -73.979967        40.751612         -73.976313   \n",
              "13325650        -73.976192        40.744026         -73.980935   \n",
              "\n",
              "          dropoff_latitude  passenger_count  \n",
              "order_id                                     \n",
              "51655713         40.745539              2.0  \n",
              "37525839         40.768660              5.0  \n",
              "55058970         40.708980              1.0  \n",
              "15663447         40.758427              6.0  \n",
              "13325650         40.733946              1.0  "
            ]
          },
          "execution_count": 21,
          "metadata": {},
          "output_type": "execute_result"
        }
      ],
      "source": [
        "X_train_num.head()  # (JUST RUN THE CODE)"
      ]
    },
    {
      "cell_type": "code",
      "execution_count": 22,
      "metadata": {
        "colab": {
          "base_uri": "https://localhost:8080/"
        },
        "id": "E5A8MyYk_Jh7",
        "outputId": "a317fbeb-39bf-478e-9fb3-982b87de6abf"
      },
      "outputs": [
        {
          "data": {
            "text/html": [
              "<div>\n",
              "<style scoped>\n",
              "    .dataframe tbody tr th:only-of-type {\n",
              "        vertical-align: middle;\n",
              "    }\n",
              "\n",
              "    .dataframe tbody tr th {\n",
              "        vertical-align: top;\n",
              "    }\n",
              "\n",
              "    .dataframe thead th {\n",
              "        text-align: right;\n",
              "    }\n",
              "</style>\n",
              "<table border=\"1\" class=\"dataframe\">\n",
              "  <thead>\n",
              "    <tr style=\"text-align: right;\">\n",
              "      <th></th>\n",
              "      <th>pickup_time</th>\n",
              "    </tr>\n",
              "    <tr>\n",
              "      <th>order_id</th>\n",
              "      <th></th>\n",
              "    </tr>\n",
              "  </thead>\n",
              "  <tbody>\n",
              "    <tr>\n",
              "      <th>51655713</th>\n",
              "      <td>16-22</td>\n",
              "    </tr>\n",
              "    <tr>\n",
              "      <th>37525839</th>\n",
              "      <td>16-22</td>\n",
              "    </tr>\n",
              "    <tr>\n",
              "      <th>55058970</th>\n",
              "      <td>16-22</td>\n",
              "    </tr>\n",
              "    <tr>\n",
              "      <th>15663447</th>\n",
              "      <td>10-16</td>\n",
              "    </tr>\n",
              "    <tr>\n",
              "      <th>13325650</th>\n",
              "      <td>16-22</td>\n",
              "    </tr>\n",
              "  </tbody>\n",
              "</table>\n",
              "</div>"
            ],
            "text/plain": [
              "         pickup_time\n",
              "order_id            \n",
              "51655713       16-22\n",
              "37525839       16-22\n",
              "55058970       16-22\n",
              "15663447       10-16\n",
              "13325650       16-22"
            ]
          },
          "execution_count": 22,
          "metadata": {},
          "output_type": "execute_result"
        }
      ],
      "source": [
        "X_train_cat.head()  # (JUST RUN THE CODE)"
      ]
    },
    {
      "cell_type": "markdown",
      "metadata": {
        "id": "TSolzD9z_NOc"
      },
      "source": [
        "#### EDA before Preprocessing (JUST RUN THE CODE)\n",
        "---"
      ]
    },
    {
      "cell_type": "markdown",
      "metadata": {
        "id": "nt7Wtjmk_NOc"
      },
      "source": [
        "- Find the number of missing values"
      ]
    },
    {
      "cell_type": "code",
      "execution_count": 23,
      "metadata": {
        "colab": {
          "base_uri": "https://localhost:8080/"
        },
        "id": "9TN_UpNwAmUD",
        "outputId": "84ff90a4-817f-4fa2-8d23-2c1d9dabda63"
      },
      "outputs": [
        {
          "data": {
            "text/plain": [
              "pickup_time          0.000000\n",
              "pickup_longitude     0.000000\n",
              "pickup_latitude      0.000000\n",
              "dropoff_longitude    0.000000\n",
              "dropoff_latitude     0.000000\n",
              "passenger_count      0.606348\n",
              "dtype: float64"
            ]
          },
          "execution_count": 23,
          "metadata": {},
          "output_type": "execute_result"
        }
      ],
      "source": [
        "100 * (X_train.isna().sum(0) / len(X_train))"
      ]
    },
    {
      "cell_type": "markdown",
      "metadata": {
        "id": "3CmEIM19Aqnr"
      },
      "source": [
        "- We will impute all these variables if there is any missing value"
      ]
    },
    {
      "cell_type": "markdown",
      "metadata": {
        "id": "MBVeQTSaDtdO"
      },
      "source": [
        "- First, check the numerical features distribution"
      ]
    },
    {
      "cell_type": "code",
      "execution_count": 24,
      "metadata": {
        "id": "cDPzHlriAFck"
      },
      "outputs": [],
      "source": [
        "import matplotlib.pyplot as plt\n",
        "import seaborn as sns\n"
      ]
    },
    {
      "cell_type": "code",
      "execution_count": 25,
      "metadata": {
        "colab": {
          "base_uri": "https://localhost:8080/",
          "height": 571
        },
        "id": "eOXpnmQc_NOc",
        "outputId": "ce3be5d4-9e74-485f-fdc7-cb78e1e5ab6e"
      },
      "outputs": [
        {
          "data": {
            "image/png": "[encoded data removed]",
            "text/plain": [
              "<Figure size 1200x800 with 6 Axes>"
            ]
          },
          "metadata": {},
          "output_type": "display_data"
        }
      ],
      "source": [
        "# Plot histogram\n",
        "fig, ax = plt.subplots(nrows=3, ncols=2, figsize=(12, 8))\n",
        "axes = ax.flatten()\n",
        "\n",
        "for i, col in enumerate(X_train_num.columns):\n",
        "    sns.kdeplot(X_train_num[col], ax=axes[i])\n",
        "    axes[i].set_title(f'Distribution of {col}')\n",
        "\n",
        "plt.tight_layout()\n",
        "plt.show()"
      ]
    },
    {
      "cell_type": "markdown",
      "metadata": {
        "id": "CYreWROVFMos"
      },
      "source": [
        "- All the distribution are skewed, we can impute a missing value by its features median."
      ]
    },
    {
      "cell_type": "markdown",
      "metadata": {
        "id": "C7TnRAdkFWiT"
      },
      "source": [
        "- Next, explore the `pickup_time`"
      ]
    },
    {
      "cell_type": "code",
      "execution_count": 26,
      "metadata": {
        "colab": {
          "base_uri": "https://localhost:8080/"
        },
        "id": "p8c9PHjaFUrv",
        "outputId": "0326f3a2-f904-4cbe-d315-3de79009d9be"
      },
      "outputs": [
        {
          "data": {
            "text/plain": [
              "pickup_time\n",
              "16-22    0.328160\n",
              "10-16    0.286376\n",
              "22-04    0.221648\n",
              "04-10    0.157599\n",
              "-        0.006217\n",
              "Name: proportion, dtype: float64"
            ]
          },
          "execution_count": 26,
          "metadata": {},
          "output_type": "execute_result"
        }
      ],
      "source": [
        "X_train['pickup_time'].value_counts(normalize=True)"
      ]
    },
    {
      "cell_type": "markdown",
      "metadata": {
        "id": "8bEMsSiSG6NZ"
      },
      "source": [
        "- There's a missing value with symbol `'-'` in `pickup_time`,\n",
        "- We can impute the missing value with `UNKNOWN`"
      ]
    },
    {
      "cell_type": "markdown",
      "metadata": {
        "id": "OX5MqqWjHEbg"
      },
      "source": [
        "- Explore the relation between `pickup_time` and `fare`"
      ]
    },
    {
      "cell_type": "code",
      "execution_count": 27,
      "metadata": {
        "colab": {
          "base_uri": "https://localhost:8080/",
          "height": 258
        },
        "id": "xqg-kjr-GvYf",
        "outputId": "94bef63f-7107-4bcb-c336-869d09f9af49"
      },
      "outputs": [
        {
          "data": {
            "text/html": [
              "<div>\n",
              "<style scoped>\n",
              "    .dataframe tbody tr th:only-of-type {\n",
              "        vertical-align: middle;\n",
              "    }\n",
              "\n",
              "    .dataframe tbody tr th {\n",
              "        vertical-align: top;\n",
              "    }\n",
              "\n",
              "    .dataframe thead th {\n",
              "        text-align: right;\n",
              "    }\n",
              "</style>\n",
              "<table border=\"1\" class=\"dataframe\">\n",
              "  <thead>\n",
              "    <tr style=\"text-align: right;\">\n",
              "      <th></th>\n",
              "      <th>pickup_time</th>\n",
              "      <th>pickup_longitude</th>\n",
              "      <th>pickup_latitude</th>\n",
              "      <th>dropoff_longitude</th>\n",
              "      <th>dropoff_latitude</th>\n",
              "      <th>passenger_count</th>\n",
              "      <th>fare_amount</th>\n",
              "    </tr>\n",
              "    <tr>\n",
              "      <th>order_id</th>\n",
              "      <th></th>\n",
              "      <th></th>\n",
              "      <th></th>\n",
              "      <th></th>\n",
              "      <th></th>\n",
              "      <th></th>\n",
              "      <th></th>\n",
              "    </tr>\n",
              "  </thead>\n",
              "  <tbody>\n",
              "    <tr>\n",
              "      <th>51655713</th>\n",
              "      <td>16-22</td>\n",
              "      <td>-73.979392</td>\n",
              "      <td>40.735734</td>\n",
              "      <td>-73.906281</td>\n",
              "      <td>40.745539</td>\n",
              "      <td>2.0</td>\n",
              "      <td>16.5</td>\n",
              "    </tr>\n",
              "    <tr>\n",
              "      <th>37525839</th>\n",
              "      <td>16-22</td>\n",
              "      <td>-73.986575</td>\n",
              "      <td>40.761473</td>\n",
              "      <td>-73.981880</td>\n",
              "      <td>40.768660</td>\n",
              "      <td>5.0</td>\n",
              "      <td>3.7</td>\n",
              "    </tr>\n",
              "    <tr>\n",
              "      <th>55058970</th>\n",
              "      <td>16-22</td>\n",
              "      <td>-73.972533</td>\n",
              "      <td>40.782260</td>\n",
              "      <td>-73.952761</td>\n",
              "      <td>40.708980</td>\n",
              "      <td>1.0</td>\n",
              "      <td>18.9</td>\n",
              "    </tr>\n",
              "    <tr>\n",
              "      <th>15663447</th>\n",
              "      <td>10-16</td>\n",
              "      <td>-73.979967</td>\n",
              "      <td>40.751612</td>\n",
              "      <td>-73.976313</td>\n",
              "      <td>40.758427</td>\n",
              "      <td>6.0</td>\n",
              "      <td>4.1</td>\n",
              "    </tr>\n",
              "    <tr>\n",
              "      <th>13325650</th>\n",
              "      <td>16-22</td>\n",
              "      <td>-73.976192</td>\n",
              "      <td>40.744026</td>\n",
              "      <td>-73.980935</td>\n",
              "      <td>40.733946</td>\n",
              "      <td>1.0</td>\n",
              "      <td>5.0</td>\n",
              "    </tr>\n",
              "  </tbody>\n",
              "</table>\n",
              "</div>"
            ],
            "text/plain": [
              "         pickup_time  pickup_longitude  pickup_latitude  dropoff_longitude  \\\n",
              "order_id                                                                     \n",
              "51655713       16-22        -73.979392        40.735734         -73.906281   \n",
              "37525839       16-22        -73.986575        40.761473         -73.981880   \n",
              "55058970       16-22        -73.972533        40.782260         -73.952761   \n",
              "15663447       10-16        -73.979967        40.751612         -73.976313   \n",
              "13325650       16-22        -73.976192        40.744026         -73.980935   \n",
              "\n",
              "          dropoff_latitude  passenger_count  fare_amount  \n",
              "order_id                                                  \n",
              "51655713         40.745539              2.0         16.5  \n",
              "37525839         40.768660              5.0          3.7  \n",
              "55058970         40.708980              1.0         18.9  \n",
              "15663447         40.758427              6.0          4.1  \n",
              "13325650         40.733946              1.0          5.0  "
            ]
          },
          "execution_count": 27,
          "metadata": {},
          "output_type": "execute_result"
        }
      ],
      "source": [
        "# Concat the data first\n",
        "train_data = pd.concat((X_train, y_train), axis=1)\n",
        "train_data.head()"
      ]
    },
    {
      "cell_type": "code",
      "execution_count": 28,
      "metadata": {
        "colab": {
          "base_uri": "https://localhost:8080/",
          "height": 450
        },
        "id": "e0xMJc-oHO8m",
        "outputId": "3a822bbd-4d15-4c07-8513-fb972ef08008"
      },
      "outputs": [
        {
          "data": {
            "image/png": "[encoded data removed]",
            "text/plain": [
              "<Figure size 640x480 with 1 Axes>"
            ]
          },
          "metadata": {},
          "output_type": "display_data"
        }
      ],
      "source": [
        "# Create a boxplot\n",
        "sns.boxplot(data=train_data[train_data['fare_amount'] < 50],\n",
        "            x='pickup_time',\n",
        "            y='fare_amount')\n",
        "plt.show()"
      ]
    },
    {
      "cell_type": "markdown",
      "metadata": {
        "id": "FcqYxsDtHynL"
      },
      "source": [
        "- There is no significant fare different between `pickup_time`.\n",
        "- We can perform a one hot encoding for this data."
      ]
    },
    {
      "cell_type": "markdown",
      "metadata": {
        "id": "9vXXNcIuH86Y"
      },
      "source": [
        "**Conclusion for preprocessing**\n",
        "- Impute the missing `passenger_counts` with its median\n",
        "- Impute the missing `pickup_time` with `'UNKNOWN'`\n",
        "- Feature engineering the `dropoff` and `pickup` coordinate to be a distance between pickup and dropoff. We can use an Euclidean distance for simplicity."
      ]
    },
    {
      "cell_type": "markdown",
      "metadata": {
        "id": "tUARDkuwIm7D"
      },
      "source": [
        "#### 2.4. Numerical Imputation (6 pts)\n",
        "---"
      ]
    },
    {
      "cell_type": "markdown",
      "metadata": {
        "id": "squyrSVbJ5dc"
      },
      "source": [
        "- Now, let's perform a numerical imputation\n",
        "- First check the missing value of the numerical data"
      ]
    },
    {
      "cell_type": "code",
      "execution_count": 29,
      "metadata": {
        "colab": {
          "base_uri": "https://localhost:8080/"
        },
        "id": "cVMwSr35MyCf",
        "outputId": "5538a4bb-49d5-4d0c-df10-805639492641"
      },
      "outputs": [
        {
          "data": {
            "text/plain": [
              "pickup_longitude       0\n",
              "pickup_latitude        0\n",
              "dropoff_longitude      0\n",
              "dropoff_latitude       0\n",
              "passenger_count      945\n",
              "dtype: int64"
            ]
          },
          "execution_count": 29,
          "metadata": {},
          "output_type": "execute_result"
        }
      ],
      "source": [
        "# Check missing value (JUST RUN THE CODE)\n",
        "X_train_num.isna().sum(0)"
      ]
    },
    {
      "cell_type": "markdown",
      "metadata": {
        "id": "qli0bc7TIm7H"
      },
      "source": [
        "- Create a function to fit a numerical features imputer"
      ]
    },
    {
      "cell_type": "code",
      "execution_count": 30,
      "metadata": {
        "id": "S9xCqY1vIm7I"
      },
      "outputs": [],
      "source": [
        "####################################################\n",
        "# Create function to fit & transform numerical imputers\n",
        "# The fit function is called by num_imputer_fit\n",
        "# - it needs 1 input, the data (pd.DataFrame)\n",
        "# - the missing value is np.nan\n",
        "# - the imputation strategy is median\n",
        "# - it return the imputer\n",
        "#\n",
        "# The transform function is called by num_imputer_transform\n",
        "# - it needs 2 input, data (pd.DataFrame) and imputer (sklearn object)\n",
        "# - it return the imputed data in pd.DataFrame format\n",
        "#\n",
        "# Write your code here\n",
        "####################################################\n",
        "\n",
        "from sklearn.impute import SimpleImputer\n",
        "\n",
        "def num_imputer_fit(data):\n",
        "    imputer = SimpleImputer(missing_values = np.nan, strategy = \"median\")\n",
        "    imputer.fit(data)\n",
        "    return imputer\n",
        "\n",
        "def num_imputer_transform (data, imputer):\n",
        "    imputed_data = imputer.transform(data)\n",
        "    imputed_data = pd.DataFrame(imputed_data)\n",
        "    imputed_data.columns = data.columns\n",
        "    imputed_data.index = data.index\n",
        "    \n",
        "    return imputed_data\n",
        "\n",
        "\n",
        "\n"
      ]
    },
    {
      "cell_type": "markdown",
      "metadata": {
        "id": "k3-99ZrM1-uU"
      },
      "source": [
        "- Perform imputation"
      ]
    },
    {
      "cell_type": "code",
      "execution_count": 31,
      "metadata": {
        "id": "6M8Ea7ybH7B3"
      },
      "outputs": [],
      "source": [
        "# Get the numerical imputer\n",
        "num_imputer = num_imputer_fit(X_train_num)# WRITE YOUR CODE HERE\n",
        "\n",
        "# Transform the data\n",
        "X_train_num_imputed = num_imputer_transform(X_train_num, num_imputer) # WRITE YOUR CODE HERE"
      ]
    },
    {
      "cell_type": "code",
      "execution_count": 32,
      "metadata": {
        "colab": {
          "base_uri": "https://localhost:8080/"
        },
        "id": "xkI8me6a2GNN",
        "outputId": "a25aff2c-8bed-4b2c-c724-84c58c6c8a0f"
      },
      "outputs": [
        {
          "data": {
            "text/plain": [
              "pickup_longitude     0\n",
              "pickup_latitude      0\n",
              "dropoff_longitude    0\n",
              "dropoff_latitude     0\n",
              "passenger_count      0\n",
              "dtype: int64"
            ]
          },
          "execution_count": 32,
          "metadata": {},
          "output_type": "execute_result"
        }
      ],
      "source": [
        "# Validate (JUST RUN THE CODE)\n",
        "X_train_num_imputed.isna().sum(0)"
      ]
    },
    {
      "cell_type": "markdown",
      "metadata": {
        "id": "qIqhlTq42cDa"
      },
      "source": [
        "Great!"
      ]
    },
    {
      "cell_type": "markdown",
      "metadata": {
        "id": "1dyVifNK2fZA"
      },
      "source": [
        "#### 2.5. Categorical Imputation (6 pts)\n",
        "---"
      ]
    },
    {
      "cell_type": "markdown",
      "metadata": {
        "id": "rtw3ZtuVMBFq"
      },
      "source": [
        "- Next, let's perform the categorical imputation"
      ]
    },
    {
      "cell_type": "code",
      "execution_count": 33,
      "metadata": {
        "colab": {
          "base_uri": "https://localhost:8080/"
        },
        "id": "YOLY-j9c2fZN",
        "outputId": "6d8c602c-5e55-4f82-f678-d7bfe2e5ac63"
      },
      "outputs": [
        {
          "data": {
            "text/plain": [
              "pickup_time\n",
              "16-22          0.328160\n",
              "10-16          0.286376\n",
              "22-04          0.221648\n",
              "04-10          0.157599\n",
              "-              0.006217\n",
              "Name: proportion, dtype: float64"
            ]
          },
          "execution_count": 33,
          "metadata": {},
          "output_type": "execute_result"
        }
      ],
      "source": [
        "# Check missing value (JUST RUN THE CODE)\n",
        "X_train_cat.value_counts(normalize=True)"
      ]
    },
    {
      "cell_type": "markdown",
      "metadata": {
        "id": "eeKkHCph2fZN"
      },
      "source": [
        "- Create a function to fit a categorical features imputer"
      ]
    },
    {
      "cell_type": "code",
      "execution_count": 34,
      "metadata": {
        "id": "zj32QoP72fZO"
      },
      "outputs": [],
      "source": [
        "####################################################\n",
        "# Create function to fit & transform categorical imputers\n",
        "# The fit function is called by cat_imputer_fit\n",
        "# - it needs 1 input, the data (pd.DataFrame)\n",
        "# - the missing value is '-'\n",
        "# - the imputation strategy is filling it with 'UNKNOWN'\n",
        "# - it return the imputer\n",
        "#\n",
        "# The transform function is called by cat_imputer_transform\n",
        "# - it needs 2 input, data (pd.DataFrame) and imputer (sklearn object)\n",
        "# - it return the imputed data in pd.DataFrame format\n",
        "#\n",
        "# Write your code here\n",
        "####################################################\n",
        "def cat_imputer_fit(data):\n",
        "    imputer = SimpleImputer(missing_values = \"-\", strategy = \"constant\", fill_value = \"UNKNOWN\")\n",
        "    imputer.fit(data)\n",
        "    return imputer\n",
        "\n",
        "def cat_imputer_transform (data, imputer):\n",
        "    imputed_data = imputer.transform(data)\n",
        "    imputed_data = pd.DataFrame(imputed_data)\n",
        "    imputed_data.columns = data.columns \n",
        "    imputed_data.index = data.index\n",
        "    return imputed_data\n",
        "    \n",
        "\n"
      ]
    },
    {
      "cell_type": "markdown",
      "metadata": {
        "id": "HaIpEyAb2fZO"
      },
      "source": [
        "- Perform imputation"
      ]
    },
    {
      "cell_type": "code",
      "execution_count": 35,
      "metadata": {
        "id": "_RVqvHaa2fZP"
      },
      "outputs": [],
      "source": [
        "# Perform categorical imputation\n",
        "cat_imputer = cat_imputer_fit(X_train_cat) # WRITE YOUR CODE HERE\n",
        "\n",
        "# Transform\n",
        "X_train_cat_imputed = cat_imputer_transform(X_train_cat, cat_imputer) # WRITE YOUR CODE HERE"
      ]
    },
    {
      "cell_type": "code",
      "execution_count": 36,
      "metadata": {
        "colab": {
          "base_uri": "https://localhost:8080/"
        },
        "id": "Cl1KZpCP2fZP",
        "outputId": "dafd6a60-17fb-459b-f603-59f12d9885d6"
      },
      "outputs": [
        {
          "data": {
            "text/plain": [
              "pickup_time\n",
              "16-22          0.328160\n",
              "10-16          0.286376\n",
              "22-04          0.221648\n",
              "04-10          0.157599\n",
              "UNKNOWN        0.006217\n",
              "Name: proportion, dtype: float64"
            ]
          },
          "execution_count": 36,
          "metadata": {},
          "output_type": "execute_result"
        }
      ],
      "source": [
        "# Validate (JUST RUN THE CODE)\n",
        "X_train_cat_imputed.value_counts(normalize=True)"
      ]
    },
    {
      "cell_type": "markdown",
      "metadata": {
        "id": "PVbiQF7V2fZP"
      },
      "source": [
        "Great!"
      ]
    },
    {
      "cell_type": "markdown",
      "metadata": {
        "id": "ICQiqto83TQ9"
      },
      "source": [
        "#### 2.6. Preprocess Categorical Features (6 pts)\n",
        "---"
      ]
    },
    {
      "cell_type": "markdown",
      "metadata": {
        "id": "60X9R4Ny3cwY"
      },
      "source": [
        "- We will create a one-hot-encoder (read the `EDA before processing`) for the categorical features\n",
        "- Create a function to perform a one hot encoder"
      ]
    },
    {
      "cell_type": "code",
      "execution_count": 37,
      "metadata": {
        "id": "wsly5zI_3TQ_"
      },
      "outputs": [],
      "source": [
        "####################################################\n",
        "# Write two functions to perform OHE for the categorical data\n",
        "# The first function is called cat_encoder_fit\n",
        "# - It needs 1 input, the data (pd.DataFrame)\n",
        "# - You create an encoder (from OHE Sklearn)\n",
        "# - input all categories of the categorical data\n",
        "# - if there is other category outside the categories listed right now, ignore it\n",
        "# - return the encoder\n",
        "#\n",
        "# The second function is called cat_encoder_transfrom\n",
        "# - It needs two input, the data (pd.DataFrame), the encoder (sklearn object)\n",
        "# - It transform the input data based on the encoder\n",
        "# - It returns the encoded data (pd.DataFrame)\n",
        "#\n",
        "# Write your code here\n",
        "####################################################\n",
        "from sklearn.preprocessing import OneHotEncoder\n",
        "\n",
        "def cat_encoder_fit(data):\n",
        "    encoder = pd.DataFrame(data)\n",
        "    encoder = OneHotEncoder(handle_unknown = \"ignore\", sparse_output = False)\n",
        "    encoder.fit(data)\n",
        "    return encoder\n",
        "\n",
        "def cat_encoder_transform(data, encoder):\n",
        "    encoded_data = pd.DataFrame(encoder.transform(data))\n",
        "    ohe_columns = data[\"pickup_time\"].unique()\n",
        "    encoded_data.columns = ohe_columns\n",
        "    encoded_data.index = data.index\n",
        "    return encoded_data    "
      ]
    },
    {
      "cell_type": "markdown",
      "metadata": {
        "id": "AYa06kxt3TQ_"
      },
      "source": [
        "- Perform imputation"
      ]
    },
    {
      "cell_type": "code",
      "execution_count": 38,
      "metadata": {
        "id": "xu_VB3_w3TQ_"
      },
      "outputs": [],
      "source": [
        "#Perform categorical imputation\n",
        "cat_encoder = cat_encoder_fit(X_train_cat_imputed) # WRITE YOUR CODE HERE\n",
        "\n",
        "#Transform\n",
        "X_train_cat_encoded = cat_encoder_transform(X_train_cat_imputed, cat_encoder) "
      ]
    },
    {
      "cell_type": "code",
      "execution_count": 39,
      "metadata": {
        "colab": {
          "base_uri": "https://localhost:8080/"
        },
        "id": "ZCjWwE6rN4lt",
        "outputId": "2ad1c38f-f8d5-4d2e-a937-50e20c9d90d2"
      },
      "outputs": [
        {
          "name": "stdout",
          "output_type": "stream",
          "text": [
            "Original shape: (155851, 1)\n",
            "Encoded shape : (155851, 5)\n"
          ]
        }
      ],
      "source": [
        "# Validate  (JUST RUN THE CODE)\n",
        "print('Original shape:', X_train_cat_imputed.shape)\n",
        "print('Encoded shape :', X_train_cat_encoded.shape)"
      ]
    },
    {
      "cell_type": "code",
      "execution_count": 40,
      "metadata": {
        "colab": {
          "base_uri": "https://localhost:8080/"
        },
        "id": "TuWmwru63TQ_",
        "outputId": "96b37ffc-1d23-43c8-d626-2c117dd8b686"
      },
      "outputs": [
        {
          "data": {
            "text/html": [
              "<div>\n",
              "<style scoped>\n",
              "    .dataframe tbody tr th:only-of-type {\n",
              "        vertical-align: middle;\n",
              "    }\n",
              "\n",
              "    .dataframe tbody tr th {\n",
              "        vertical-align: top;\n",
              "    }\n",
              "\n",
              "    .dataframe thead th {\n",
              "        text-align: right;\n",
              "    }\n",
              "</style>\n",
              "<table border=\"1\" class=\"dataframe\">\n",
              "  <thead>\n",
              "    <tr style=\"text-align: right;\">\n",
              "      <th></th>\n",
              "      <th>16-22</th>\n",
              "      <th>10-16</th>\n",
              "      <th>22-04</th>\n",
              "      <th>04-10</th>\n",
              "      <th>UNKNOWN</th>\n",
              "    </tr>\n",
              "    <tr>\n",
              "      <th>order_id</th>\n",
              "      <th></th>\n",
              "      <th></th>\n",
              "      <th></th>\n",
              "      <th></th>\n",
              "      <th></th>\n",
              "    </tr>\n",
              "  </thead>\n",
              "  <tbody>\n",
              "    <tr>\n",
              "      <th>51655713</th>\n",
              "      <td>0.0</td>\n",
              "      <td>0.0</td>\n",
              "      <td>1.0</td>\n",
              "      <td>0.0</td>\n",
              "      <td>0.0</td>\n",
              "    </tr>\n",
              "    <tr>\n",
              "      <th>37525839</th>\n",
              "      <td>0.0</td>\n",
              "      <td>0.0</td>\n",
              "      <td>1.0</td>\n",
              "      <td>0.0</td>\n",
              "      <td>0.0</td>\n",
              "    </tr>\n",
              "    <tr>\n",
              "      <th>55058970</th>\n",
              "      <td>0.0</td>\n",
              "      <td>0.0</td>\n",
              "      <td>1.0</td>\n",
              "      <td>0.0</td>\n",
              "      <td>0.0</td>\n",
              "    </tr>\n",
              "    <tr>\n",
              "      <th>15663447</th>\n",
              "      <td>0.0</td>\n",
              "      <td>1.0</td>\n",
              "      <td>0.0</td>\n",
              "      <td>0.0</td>\n",
              "      <td>0.0</td>\n",
              "    </tr>\n",
              "    <tr>\n",
              "      <th>13325650</th>\n",
              "      <td>0.0</td>\n",
              "      <td>0.0</td>\n",
              "      <td>1.0</td>\n",
              "      <td>0.0</td>\n",
              "      <td>0.0</td>\n",
              "    </tr>\n",
              "  </tbody>\n",
              "</table>\n",
              "</div>"
            ],
            "text/plain": [
              "          16-22  10-16  22-04  04-10  UNKNOWN\n",
              "order_id                                     \n",
              "51655713    0.0    0.0    1.0    0.0      0.0\n",
              "37525839    0.0    0.0    1.0    0.0      0.0\n",
              "55058970    0.0    0.0    1.0    0.0      0.0\n",
              "15663447    0.0    1.0    0.0    0.0      0.0\n",
              "13325650    0.0    0.0    1.0    0.0      0.0"
            ]
          },
          "execution_count": 40,
          "metadata": {},
          "output_type": "execute_result"
        }
      ],
      "source": [
        "# Validate  (JUST RUN THE CODE)\n",
        "X_train_cat_encoded.head()"
      ]
    },
    {
      "cell_type": "code",
      "execution_count": 41,
      "metadata": {
        "colab": {
          "base_uri": "https://localhost:8080/"
        },
        "id": "IKwZYDhl7IiF",
        "outputId": "2d6b349a-3a4e-4eca-8cfa-4841e271872d"
      },
      "outputs": [
        {
          "data": {
            "text/html": [
              "<div>\n",
              "<style scoped>\n",
              "    .dataframe tbody tr th:only-of-type {\n",
              "        vertical-align: middle;\n",
              "    }\n",
              "\n",
              "    .dataframe tbody tr th {\n",
              "        vertical-align: top;\n",
              "    }\n",
              "\n",
              "    .dataframe thead th {\n",
              "        text-align: right;\n",
              "    }\n",
              "</style>\n",
              "<table border=\"1\" class=\"dataframe\">\n",
              "  <thead>\n",
              "    <tr style=\"text-align: right;\">\n",
              "      <th></th>\n",
              "      <th>pickup_time</th>\n",
              "    </tr>\n",
              "    <tr>\n",
              "      <th>order_id</th>\n",
              "      <th></th>\n",
              "    </tr>\n",
              "  </thead>\n",
              "  <tbody>\n",
              "    <tr>\n",
              "      <th>51655713</th>\n",
              "      <td>16-22</td>\n",
              "    </tr>\n",
              "    <tr>\n",
              "      <th>37525839</th>\n",
              "      <td>16-22</td>\n",
              "    </tr>\n",
              "    <tr>\n",
              "      <th>55058970</th>\n",
              "      <td>16-22</td>\n",
              "    </tr>\n",
              "    <tr>\n",
              "      <th>15663447</th>\n",
              "      <td>10-16</td>\n",
              "    </tr>\n",
              "    <tr>\n",
              "      <th>13325650</th>\n",
              "      <td>16-22</td>\n",
              "    </tr>\n",
              "  </tbody>\n",
              "</table>\n",
              "</div>"
            ],
            "text/plain": [
              "         pickup_time\n",
              "order_id            \n",
              "51655713       16-22\n",
              "37525839       16-22\n",
              "55058970       16-22\n",
              "15663447       10-16\n",
              "13325650       16-22"
            ]
          },
          "execution_count": 41,
          "metadata": {},
          "output_type": "execute_result"
        }
      ],
      "source": [
        "# Validate  (JUST RUN THE CODE)\n",
        "X_train_cat_imputed.head()"
      ]
    },
    {
      "cell_type": "markdown",
      "metadata": {
        "id": "hGS9Q4vP3TQ_"
      },
      "source": [
        "Great!"
      ]
    },
    {
      "cell_type": "markdown",
      "metadata": {
        "id": "e4PGfH5-7QRM"
      },
      "source": [
        "#### 2.7. Join the data (6 pts)\n",
        "---"
      ]
    },
    {
      "cell_type": "markdown",
      "metadata": {
        "id": "L-MBNC397QRU"
      },
      "source": [
        "- After all the data is filled (numerically), we can join the data\n",
        "- Create a function to join the data"
      ]
    },
    {
      "cell_type": "code",
      "execution_count": 42,
      "metadata": {
        "id": "VdZ4oOas7QRU"
      },
      "outputs": [],
      "source": [
        "####################################################\n",
        "# Create a function to join / concat the data\n",
        "# The function is called by concat_data\n",
        "# - It needs two input, num_data (pd.DataFrame) and cat_data (pd.DataFrame)\n",
        "# - Don't forget to validate your process\n",
        "# - It returns the concated data\n",
        "#\n",
        "# Write your code here\n",
        "####################################################\n",
        "def concat_data(num_data, cat_data):\n",
        "    data = pd.concat((num_data, cat_data), axis = 1)\n",
        "    \n",
        "    print(\"numerical data shape = \", (num_data.shape))\n",
        "    print(\"categorical data shape = \", (cat_data.shape))\n",
        "    print(\"concat data shape = \", (data.shape))\n",
        "          \n",
        "    return data \n"
      ]
    },
    {
      "cell_type": "markdown",
      "metadata": {
        "id": "apDQ_ZBh7QRV"
      },
      "source": [
        "- Perform concatenated"
      ]
    },
    {
      "cell_type": "code",
      "execution_count": 43,
      "metadata": {
        "colab": {
          "base_uri": "https://localhost:8080/"
        },
        "id": "bNXOjIzf7QRV",
        "outputId": "cfcd004f-0895-4cbe-c0e0-07209805806d"
      },
      "outputs": [
        {
          "name": "stdout",
          "output_type": "stream",
          "text": [
            "numerical data shape =  (155851, 5)\n",
            "categorical data shape =  (155851, 5)\n",
            "concat data shape =  (155851, 10)\n"
          ]
        }
      ],
      "source": [
        "# Concat the data\n",
        "X_train_concat = concat_data(X_train_num_imputed, X_train_cat_encoded) # WRITE YOUR CODE HERE"
      ]
    },
    {
      "cell_type": "code",
      "execution_count": 44,
      "metadata": {
        "colab": {
          "base_uri": "https://localhost:8080/"
        },
        "id": "lx5Un4WZOh3-",
        "outputId": "87e6fde2-5872-4750-f788-953dab7de612"
      },
      "outputs": [
        {
          "data": {
            "text/html": [
              "<div>\n",
              "<style scoped>\n",
              "    .dataframe tbody tr th:only-of-type {\n",
              "        vertical-align: middle;\n",
              "    }\n",
              "\n",
              "    .dataframe tbody tr th {\n",
              "        vertical-align: top;\n",
              "    }\n",
              "\n",
              "    .dataframe thead th {\n",
              "        text-align: right;\n",
              "    }\n",
              "</style>\n",
              "<table border=\"1\" class=\"dataframe\">\n",
              "  <thead>\n",
              "    <tr style=\"text-align: right;\">\n",
              "      <th></th>\n",
              "      <th>pickup_longitude</th>\n",
              "      <th>pickup_latitude</th>\n",
              "      <th>dropoff_longitude</th>\n",
              "      <th>dropoff_latitude</th>\n",
              "      <th>passenger_count</th>\n",
              "      <th>16-22</th>\n",
              "      <th>10-16</th>\n",
              "      <th>22-04</th>\n",
              "      <th>04-10</th>\n",
              "      <th>UNKNOWN</th>\n",
              "    </tr>\n",
              "    <tr>\n",
              "      <th>order_id</th>\n",
              "      <th></th>\n",
              "      <th></th>\n",
              "      <th></th>\n",
              "      <th></th>\n",
              "      <th></th>\n",
              "      <th></th>\n",
              "      <th></th>\n",
              "      <th></th>\n",
              "      <th></th>\n",
              "      <th></th>\n",
              "    </tr>\n",
              "  </thead>\n",
              "  <tbody>\n",
              "    <tr>\n",
              "      <th>51655713</th>\n",
              "      <td>-73.979392</td>\n",
              "      <td>40.735734</td>\n",
              "      <td>-73.906281</td>\n",
              "      <td>40.745539</td>\n",
              "      <td>2.0</td>\n",
              "      <td>0.0</td>\n",
              "      <td>0.0</td>\n",
              "      <td>1.0</td>\n",
              "      <td>0.0</td>\n",
              "      <td>0.0</td>\n",
              "    </tr>\n",
              "    <tr>\n",
              "      <th>37525839</th>\n",
              "      <td>-73.986575</td>\n",
              "      <td>40.761473</td>\n",
              "      <td>-73.981880</td>\n",
              "      <td>40.768660</td>\n",
              "      <td>5.0</td>\n",
              "      <td>0.0</td>\n",
              "      <td>0.0</td>\n",
              "      <td>1.0</td>\n",
              "      <td>0.0</td>\n",
              "      <td>0.0</td>\n",
              "    </tr>\n",
              "    <tr>\n",
              "      <th>55058970</th>\n",
              "      <td>-73.972533</td>\n",
              "      <td>40.782260</td>\n",
              "      <td>-73.952761</td>\n",
              "      <td>40.708980</td>\n",
              "      <td>1.0</td>\n",
              "      <td>0.0</td>\n",
              "      <td>0.0</td>\n",
              "      <td>1.0</td>\n",
              "      <td>0.0</td>\n",
              "      <td>0.0</td>\n",
              "    </tr>\n",
              "    <tr>\n",
              "      <th>15663447</th>\n",
              "      <td>-73.979967</td>\n",
              "      <td>40.751612</td>\n",
              "      <td>-73.976313</td>\n",
              "      <td>40.758427</td>\n",
              "      <td>6.0</td>\n",
              "      <td>0.0</td>\n",
              "      <td>1.0</td>\n",
              "      <td>0.0</td>\n",
              "      <td>0.0</td>\n",
              "      <td>0.0</td>\n",
              "    </tr>\n",
              "    <tr>\n",
              "      <th>13325650</th>\n",
              "      <td>-73.976192</td>\n",
              "      <td>40.744026</td>\n",
              "      <td>-73.980935</td>\n",
              "      <td>40.733946</td>\n",
              "      <td>1.0</td>\n",
              "      <td>0.0</td>\n",
              "      <td>0.0</td>\n",
              "      <td>1.0</td>\n",
              "      <td>0.0</td>\n",
              "      <td>0.0</td>\n",
              "    </tr>\n",
              "  </tbody>\n",
              "</table>\n",
              "</div>"
            ],
            "text/plain": [
              "          pickup_longitude  pickup_latitude  dropoff_longitude  \\\n",
              "order_id                                                         \n",
              "51655713        -73.979392        40.735734         -73.906281   \n",
              "37525839        -73.986575        40.761473         -73.981880   \n",
              "55058970        -73.972533        40.782260         -73.952761   \n",
              "15663447        -73.979967        40.751612         -73.976313   \n",
              "13325650        -73.976192        40.744026         -73.980935   \n",
              "\n",
              "          dropoff_latitude  passenger_count  16-22  10-16  22-04  04-10  \\\n",
              "order_id                                                                  \n",
              "51655713         40.745539              2.0    0.0    0.0    1.0    0.0   \n",
              "37525839         40.768660              5.0    0.0    0.0    1.0    0.0   \n",
              "55058970         40.708980              1.0    0.0    0.0    1.0    0.0   \n",
              "15663447         40.758427              6.0    0.0    1.0    0.0    0.0   \n",
              "13325650         40.733946              1.0    0.0    0.0    1.0    0.0   \n",
              "\n",
              "          UNKNOWN  \n",
              "order_id           \n",
              "51655713      0.0  \n",
              "37525839      0.0  \n",
              "55058970      0.0  \n",
              "15663447      0.0  \n",
              "13325650      0.0  "
            ]
          },
          "execution_count": 44,
          "metadata": {},
          "output_type": "execute_result"
        }
      ],
      "source": [
        "# Validate (JUST RUN THE CODE)\n",
        "X_train_concat.head()"
      ]
    },
    {
      "cell_type": "markdown",
      "metadata": {
        "id": "IKaeyh8J7QRW"
      },
      "source": [
        "Great!"
      ]
    },
    {
      "cell_type": "markdown",
      "metadata": {
        "id": "VD93lAeX8ktW"
      },
      "source": [
        "#### 2.8. Feature engineering the data (8 pts)\n",
        "---"
      ]
    },
    {
      "cell_type": "markdown",
      "metadata": {
        "id": "zSlPHShB8kte"
      },
      "source": [
        "- Now, `pickup` and `dropoff` coordinate is not an explicit features.\n",
        "- We can create a better feature called by `distance` to summarize the `pickup` and `dropoff` coordinate."
      ]
    },
    {
      "cell_type": "code",
      "execution_count": 45,
      "metadata": {
        "id": "cCdNLObo8ktf"
      },
      "outputs": [],
      "source": [
        "####################################################\n",
        "# Create a function that obtain the distance\n",
        "# The function is called with map_distance\n",
        "# - It needs an input, data (pd.DataFrame)\n",
        "# - In the input, you calculate the trip distance using Euclidean Distance\n",
        "#   ref: https://www.cuemath.com/euclidean-distance-formula/\n",
        "# - Then, you can save the distance information as a new column, 'distance'\n",
        "# - And you can drop the pickup and dropoff latitude and longitude\n",
        "# - You return the mapped data\n",
        "#\n",
        "# Write your code here\n",
        "####################################################\n",
        "def map_distance(data):\n",
        "    print(\"original data shape\", data.shape)\n",
        "    latitude_diff = (data[\"dropoff_latitude\"] - data[\"pickup_latitude\"])**2\n",
        "    longitude_diff = (data[\"dropoff_longitude\"] - data[\"pickup_longitude\"])**2\n",
        "    \n",
        "    data[\"distance\"] = np.sqrt(latitude_diff + longitude_diff)\n",
        "    data = data.drop(columns = [\"pickup_latitude\", \"pickup_longitude\", \"dropoff_latitude\", \"dropoff_longitude\"])\n",
        "    \n",
        "    print(\"mapped data shape = \", data.shape)\n",
        "    return data "
      ]
    },
    {
      "cell_type": "markdown",
      "metadata": {
        "id": "iutgjQ4E8ktf"
      },
      "source": [
        "- Perform distance calculation (4 pts)"
      ]
    },
    {
      "cell_type": "code",
      "execution_count": 46,
      "metadata": {
        "colab": {
          "base_uri": "https://localhost:8080/"
        },
        "id": "4EyO-ke28ktf",
        "outputId": "379b32ba-1f8d-4bd3-df31-bb86efbdd90c"
      },
      "outputs": [
        {
          "name": "stdout",
          "output_type": "stream",
          "text": [
            "original data shape (155851, 10)\n",
            "mapped data shape =  (155851, 7)\n"
          ]
        }
      ],
      "source": [
        "# Calculate the distance\n",
        "X_train_concat_fe = map_distance(X_train_concat) # WRITE YOUR CODE HERE"
      ]
    },
    {
      "cell_type": "code",
      "execution_count": 47,
      "metadata": {
        "colab": {
          "base_uri": "https://localhost:8080/",
          "height": 238
        },
        "id": "dXADn7KYRWV3",
        "outputId": "9a348092-f676-4240-ba78-1f1fc6197d7b"
      },
      "outputs": [
        {
          "data": {
            "text/html": [
              "<div>\n",
              "<style scoped>\n",
              "    .dataframe tbody tr th:only-of-type {\n",
              "        vertical-align: middle;\n",
              "    }\n",
              "\n",
              "    .dataframe tbody tr th {\n",
              "        vertical-align: top;\n",
              "    }\n",
              "\n",
              "    .dataframe thead th {\n",
              "        text-align: right;\n",
              "    }\n",
              "</style>\n",
              "<table border=\"1\" class=\"dataframe\">\n",
              "  <thead>\n",
              "    <tr style=\"text-align: right;\">\n",
              "      <th></th>\n",
              "      <th>passenger_count</th>\n",
              "      <th>16-22</th>\n",
              "      <th>10-16</th>\n",
              "      <th>22-04</th>\n",
              "      <th>04-10</th>\n",
              "      <th>UNKNOWN</th>\n",
              "      <th>distance</th>\n",
              "    </tr>\n",
              "    <tr>\n",
              "      <th>order_id</th>\n",
              "      <th></th>\n",
              "      <th></th>\n",
              "      <th></th>\n",
              "      <th></th>\n",
              "      <th></th>\n",
              "      <th></th>\n",
              "      <th></th>\n",
              "    </tr>\n",
              "  </thead>\n",
              "  <tbody>\n",
              "    <tr>\n",
              "      <th>51655713</th>\n",
              "      <td>2.0</td>\n",
              "      <td>0.0</td>\n",
              "      <td>0.0</td>\n",
              "      <td>1.0</td>\n",
              "      <td>0.0</td>\n",
              "      <td>0.0</td>\n",
              "      <td>0.073766</td>\n",
              "    </tr>\n",
              "    <tr>\n",
              "      <th>37525839</th>\n",
              "      <td>5.0</td>\n",
              "      <td>0.0</td>\n",
              "      <td>0.0</td>\n",
              "      <td>1.0</td>\n",
              "      <td>0.0</td>\n",
              "      <td>0.0</td>\n",
              "      <td>0.008585</td>\n",
              "    </tr>\n",
              "    <tr>\n",
              "      <th>55058970</th>\n",
              "      <td>1.0</td>\n",
              "      <td>0.0</td>\n",
              "      <td>0.0</td>\n",
              "      <td>1.0</td>\n",
              "      <td>0.0</td>\n",
              "      <td>0.0</td>\n",
              "      <td>0.075901</td>\n",
              "    </tr>\n",
              "    <tr>\n",
              "      <th>15663447</th>\n",
              "      <td>6.0</td>\n",
              "      <td>0.0</td>\n",
              "      <td>1.0</td>\n",
              "      <td>0.0</td>\n",
              "      <td>0.0</td>\n",
              "      <td>0.0</td>\n",
              "      <td>0.007733</td>\n",
              "    </tr>\n",
              "    <tr>\n",
              "      <th>13325650</th>\n",
              "      <td>1.0</td>\n",
              "      <td>0.0</td>\n",
              "      <td>0.0</td>\n",
              "      <td>1.0</td>\n",
              "      <td>0.0</td>\n",
              "      <td>0.0</td>\n",
              "      <td>0.011140</td>\n",
              "    </tr>\n",
              "  </tbody>\n",
              "</table>\n",
              "</div>"
            ],
            "text/plain": [
              "          passenger_count  16-22  10-16  22-04  04-10  UNKNOWN  distance\n",
              "order_id                                                                \n",
              "51655713              2.0    0.0    0.0    1.0    0.0      0.0  0.073766\n",
              "37525839              5.0    0.0    0.0    1.0    0.0      0.0  0.008585\n",
              "55058970              1.0    0.0    0.0    1.0    0.0      0.0  0.075901\n",
              "15663447              6.0    0.0    1.0    0.0    0.0      0.0  0.007733\n",
              "13325650              1.0    0.0    0.0    1.0    0.0      0.0  0.011140"
            ]
          },
          "execution_count": 47,
          "metadata": {},
          "output_type": "execute_result"
        }
      ],
      "source": [
        "# Validate (JUST RUN THE CODE)\n",
        "X_train_concat_fe.head()"
      ]
    },
    {
      "cell_type": "markdown",
      "metadata": {
        "id": "p5D3MxPmReOv"
      },
      "source": [
        "- And finally, we standardize the data so that it can perform well during model optimization (4 pts)"
      ]
    },
    {
      "cell_type": "code",
      "execution_count": 48,
      "metadata": {
        "id": "s7Jq_KCcBMBu"
      },
      "outputs": [],
      "source": [
        "####################################################\n",
        "# Create two functions to perform scaling & transform scaling\n",
        "# The scaling is Standardization\n",
        "# The first function is to fit the scaler, called by fit_scaler\n",
        "# - You need an input, a data (pd.Dataframe)\n",
        "# - You create a standardization scaler (please use sklearn)\n",
        "# - Your output is the scaler\n",
        "#\n",
        "# The second function is to transform data using scaler, called by transform_scaler\n",
        "# - There are two inputs, a data (pd.Dataframe), a scaler (sklearn object)\n",
        "# - You scaled the data, then return the scaled data\n",
        "# Write your code here\n",
        "####################################################\n",
        "from sklearn.preprocessing import StandardScaler\n",
        "\n",
        "def fit_scaler (data):\n",
        "    scaler = StandardScaler()\n",
        "    scaler.fit(data)\n",
        "    \n",
        "    return scaler\n",
        "\n",
        "def transform_scaler(data, scaler):\n",
        "    data_columns = data.columns\n",
        "    data_index = data.index\n",
        "    \n",
        "    standarization_data_raw = scaler.transform(data)\n",
        "    standarization_data = pd.DataFrame(standarization_data_raw)\n",
        "    standarization_data.columns = data_columns\n",
        "    standarization_data.index = data_index\n",
        "    \n",
        "    return standarization_data\n",
        "    \n",
        "\n"
      ]
    },
    {
      "cell_type": "code",
      "execution_count": 49,
      "metadata": {
        "id": "H1ipNmwgB6V8"
      },
      "outputs": [],
      "source": [
        "# Fit the scaler\n",
        "scaler = fit_scaler(X_train_concat_fe) # WRITE YOUR CODE HERE\n",
        "\n",
        "# Transform the scaler\n",
        "X_train_clean = transform_scaler(X_train_concat_fe, scaler) # WRITE YOUR CODE HERE"
      ]
    },
    {
      "cell_type": "code",
      "execution_count": 50,
      "metadata": {
        "colab": {
          "base_uri": "https://localhost:8080/",
          "height": 300
        },
        "id": "OLeIPoDGTIlc",
        "outputId": "347126f6-54f4-4c34-dab0-d91aa81a2c61"
      },
      "outputs": [
        {
          "data": {
            "text/html": [
              "<div>\n",
              "<style scoped>\n",
              "    .dataframe tbody tr th:only-of-type {\n",
              "        vertical-align: middle;\n",
              "    }\n",
              "\n",
              "    .dataframe tbody tr th {\n",
              "        vertical-align: top;\n",
              "    }\n",
              "\n",
              "    .dataframe thead th {\n",
              "        text-align: right;\n",
              "    }\n",
              "</style>\n",
              "<table border=\"1\" class=\"dataframe\">\n",
              "  <thead>\n",
              "    <tr style=\"text-align: right;\">\n",
              "      <th></th>\n",
              "      <th>passenger_count</th>\n",
              "      <th>16-22</th>\n",
              "      <th>10-16</th>\n",
              "      <th>22-04</th>\n",
              "      <th>04-10</th>\n",
              "      <th>UNKNOWN</th>\n",
              "      <th>distance</th>\n",
              "    </tr>\n",
              "  </thead>\n",
              "  <tbody>\n",
              "    <tr>\n",
              "      <th>count</th>\n",
              "      <td>155851.0000</td>\n",
              "      <td>155851.0000</td>\n",
              "      <td>155851.0000</td>\n",
              "      <td>155851.0000</td>\n",
              "      <td>155851.0000</td>\n",
              "      <td>155851.0000</td>\n",
              "      <td>155851.0000</td>\n",
              "    </tr>\n",
              "    <tr>\n",
              "      <th>mean</th>\n",
              "      <td>-0.0000</td>\n",
              "      <td>0.0000</td>\n",
              "      <td>-0.0000</td>\n",
              "      <td>-0.0000</td>\n",
              "      <td>-0.0000</td>\n",
              "      <td>0.0000</td>\n",
              "      <td>-0.0000</td>\n",
              "    </tr>\n",
              "    <tr>\n",
              "      <th>std</th>\n",
              "      <td>1.0000</td>\n",
              "      <td>1.0000</td>\n",
              "      <td>1.0000</td>\n",
              "      <td>1.0000</td>\n",
              "      <td>1.0000</td>\n",
              "      <td>1.0000</td>\n",
              "      <td>1.0000</td>\n",
              "    </tr>\n",
              "    <tr>\n",
              "      <th>min</th>\n",
              "      <td>-0.5267</td>\n",
              "      <td>-0.4325</td>\n",
              "      <td>-0.6335</td>\n",
              "      <td>-0.6989</td>\n",
              "      <td>-0.5336</td>\n",
              "      <td>-0.0791</td>\n",
              "      <td>-0.0383</td>\n",
              "    </tr>\n",
              "    <tr>\n",
              "      <th>25%</th>\n",
              "      <td>-0.5267</td>\n",
              "      <td>-0.4325</td>\n",
              "      <td>-0.6335</td>\n",
              "      <td>-0.6989</td>\n",
              "      <td>-0.5336</td>\n",
              "      <td>-0.0791</td>\n",
              "      <td>-0.0340</td>\n",
              "    </tr>\n",
              "    <tr>\n",
              "      <th>50%</th>\n",
              "      <td>-0.5267</td>\n",
              "      <td>-0.4325</td>\n",
              "      <td>-0.6335</td>\n",
              "      <td>-0.6989</td>\n",
              "      <td>-0.5336</td>\n",
              "      <td>-0.0791</td>\n",
              "      <td>-0.0311</td>\n",
              "    </tr>\n",
              "    <tr>\n",
              "      <th>75%</th>\n",
              "      <td>0.2412</td>\n",
              "      <td>-0.4325</td>\n",
              "      <td>1.5786</td>\n",
              "      <td>1.4308</td>\n",
              "      <td>-0.5336</td>\n",
              "      <td>-0.0791</td>\n",
              "      <td>-0.0256</td>\n",
              "    </tr>\n",
              "    <tr>\n",
              "      <th>max</th>\n",
              "      <td>3.3130</td>\n",
              "      <td>2.3120</td>\n",
              "      <td>1.5786</td>\n",
              "      <td>1.4308</td>\n",
              "      <td>1.8739</td>\n",
              "      <td>12.6427</td>\n",
              "      <td>218.5245</td>\n",
              "    </tr>\n",
              "  </tbody>\n",
              "</table>\n",
              "</div>"
            ],
            "text/plain": [
              "       passenger_count        16-22        10-16        22-04        04-10  \\\n",
              "count      155851.0000  155851.0000  155851.0000  155851.0000  155851.0000   \n",
              "mean           -0.0000       0.0000      -0.0000      -0.0000      -0.0000   \n",
              "std             1.0000       1.0000       1.0000       1.0000       1.0000   \n",
              "min            -0.5267      -0.4325      -0.6335      -0.6989      -0.5336   \n",
              "25%            -0.5267      -0.4325      -0.6335      -0.6989      -0.5336   \n",
              "50%            -0.5267      -0.4325      -0.6335      -0.6989      -0.5336   \n",
              "75%             0.2412      -0.4325       1.5786       1.4308      -0.5336   \n",
              "max             3.3130       2.3120       1.5786       1.4308       1.8739   \n",
              "\n",
              "           UNKNOWN     distance  \n",
              "count  155851.0000  155851.0000  \n",
              "mean        0.0000      -0.0000  \n",
              "std         1.0000       1.0000  \n",
              "min        -0.0791      -0.0383  \n",
              "25%        -0.0791      -0.0340  \n",
              "50%        -0.0791      -0.0311  \n",
              "75%        -0.0791      -0.0256  \n",
              "max        12.6427     218.5245  "
            ]
          },
          "execution_count": 50,
          "metadata": {},
          "output_type": "execute_result"
        }
      ],
      "source": [
        "# Validate (JUST RUN THE CODE)\n",
        "X_train_clean.describe().round(4)"
      ]
    },
    {
      "cell_type": "markdown",
      "metadata": {
        "id": "QiJ-dDJ98ktg"
      },
      "source": [
        "Great!"
      ]
    },
    {
      "cell_type": "markdown",
      "metadata": {
        "id": "3oQY9GhDTUpI"
      },
      "source": [
        "#### 2.9. Create the preprocess function (10 pts)\n",
        "---"
      ]
    },
    {
      "cell_type": "markdown",
      "metadata": {
        "id": "08Q3aT2KTUpW"
      },
      "source": [
        "- Now, let's create a function to preprocess other set of data (valid & test) so that we can predict that"
      ]
    },
    {
      "cell_type": "code",
      "execution_count": 51,
      "metadata": {
        "id": "nle2MYzV2crW"
      },
      "outputs": [],
      "source": [
        "####################################################\n",
        "# Create a function to preprocess the dataset\n",
        "# You called the function preprocess_data\n",
        "# - It needs many input\n",
        "#   - data, pd.DataFrame\n",
        "#   - num_cols, the numerical columns, list\n",
        "#   - cat_cols, the categorical columns, list\n",
        "#   - num_imputer, the numerical imputer, sklearn object\n",
        "#   - cat_imputer, the categorical imputer, sklearn object\n",
        "#   - cat_encoder, the categorical encoder, sklearn object\n",
        "#   - scaler, the data scaler, sklearn object\n",
        "# - You preprocess the data following step 2.3 - 2.8\n",
        "# - You return the clean data\n",
        "#\n",
        "# Write your code here\n",
        "####################################################\n",
        "def preprocess_data(data, num_cols, cat_cols, num_imputer, cat_imputer, cat_encoder, scaler):\n",
        "    # seperate numerical categorical\n",
        "    X_num = data[num_cols]\n",
        "    X_cat = data[cat_cols]\n",
        "    \n",
        "    # imputed numerrical\n",
        "    imputed_data_num = num_imputer.transform(X_num) \n",
        "    imputed_data_num = pd.DataFrame(imputed_data_num)\n",
        "    imputed_data_num.columns = X_num.columns\n",
        "    imputed_data_num.index = X_num.index\n",
        "    \n",
        "    print(\"numerical data shape = \", (imputed_data_num.shape))\n",
        "    \n",
        "    # imputed categorical\n",
        "    imputed_data_cat = cat_imputer.transform(X_cat) \n",
        "    imputed_data_cat = pd.DataFrame(imputed_data_cat)\n",
        "    imputed_data_cat.columns = X_cat.columns\n",
        "    imputed_data_cat.index = X_cat.index\n",
        "    \n",
        "    # transform encoder\n",
        "    encoded_data = pd.DataFrame(cat_encoder.transform(imputed_data_cat))\n",
        "    ohe_columns = imputed_data_cat[\"pickup_time\"].unique()\n",
        "    ohe_columns.sort()\n",
        "    encoded_data.columns = ohe_columns\n",
        "    encoded_data.index = imputed_data_cat.index\n",
        "    print(\"categorical data shape = \", (encoded_data.shape))\n",
        "    \n",
        "    # join numerical categorical\n",
        "    concat_data = pd.concat((imputed_data_num, encoded_data), axis = 1)\n",
        "    print(\"concat data shape = \", (concat_data.shape))\n",
        "    print(\"\\n\")\n",
        "    print(\"original data shape = \", (concat_data.shape))\n",
        "    \n",
        "    # engineering the data\n",
        "    latitude_diff = (concat_data[\"dropoff_latitude\"] - concat_data[\"pickup_latitude\"])**2\n",
        "    longitude_diff = (concat_data[\"dropoff_longitude\"] - concat_data[\"pickup_longitude\"])**2\n",
        "    \n",
        "    concat_data[\"distance\"] = np.sqrt(latitude_diff + longitude_diff)\n",
        "    concat_data = concat_data.drop(columns = [\"pickup_latitude\", \"pickup_longitude\", \"dropoff_latitude\", \"dropoff_longitude\"])\n",
        "    \n",
        "    # transform data\n",
        "    \n",
        "    scaler = StandardScaler()\n",
        "    scaler.fit(concat_data)\n",
        "    \n",
        "    data_columns = concat_data.columns\n",
        "    data_index = concat_data.index\n",
        "    \n",
        "    standarization_data_raw = scaler.transform(concat_data)\n",
        "    standarization_data = pd.DataFrame(standarization_data_raw)\n",
        "    standarization_data.columns = data_columns\n",
        "    standarization_data.index = data_index\n",
        "    \n",
        "    \n",
        "    print(\"mapped data shape = \", standarization_data.shape)\n",
        "    print(\"\\n\")\n",
        "    \n",
        "    return concat_data\n",
        "\n",
        "    \n"
      ]
    },
    {
      "cell_type": "code",
      "execution_count": 52,
      "metadata": {
        "colab": {
          "base_uri": "https://localhost:8080/"
        },
        "id": "bQ-MKqkLFgOD",
        "outputId": "8318bbfd-1f49-43a7-e187-fc9f523df746"
      },
      "outputs": [
        {
          "name": "stdout",
          "output_type": "stream",
          "text": [
            "numerical data shape =  (155851, 5)\n",
            "categorical data shape =  (155851, 5)\n",
            "concat data shape =  (155851, 10)\n",
            "\n",
            "\n",
            "original data shape =  (155851, 10)\n",
            "mapped data shape =  (155851, 7)\n",
            "\n",
            "\n"
          ]
        }
      ],
      "source": [
        "# Preprocess the data training again\n",
        "X_train_clean = preprocess_data(X_train, X_num_columns, X_cat_columns, num_imputer, cat_imputer, cat_encoder, scaler) # WRITE YOUR CODE HERE"
      ]
    },
    {
      "cell_type": "code",
      "execution_count": 53,
      "metadata": {
        "colab": {
          "base_uri": "https://localhost:8080/"
        },
        "id": "6eSeFeQ5GDWb",
        "outputId": "3cf2ef0c-719f-4337-a188-d6cee615ee42"
      },
      "outputs": [
        {
          "name": "stdout",
          "output_type": "stream",
          "text": [
            "Original data shape: (155851, 6)\n",
            "Cleaned data shape : (155851, 7)\n"
          ]
        },
        {
          "data": {
            "text/html": [
              "<div>\n",
              "<style scoped>\n",
              "    .dataframe tbody tr th:only-of-type {\n",
              "        vertical-align: middle;\n",
              "    }\n",
              "\n",
              "    .dataframe tbody tr th {\n",
              "        vertical-align: top;\n",
              "    }\n",
              "\n",
              "    .dataframe thead th {\n",
              "        text-align: right;\n",
              "    }\n",
              "</style>\n",
              "<table border=\"1\" class=\"dataframe\">\n",
              "  <thead>\n",
              "    <tr style=\"text-align: right;\">\n",
              "      <th></th>\n",
              "      <th>passenger_count</th>\n",
              "      <th>04-10</th>\n",
              "      <th>10-16</th>\n",
              "      <th>16-22</th>\n",
              "      <th>22-04</th>\n",
              "      <th>UNKNOWN</th>\n",
              "      <th>distance</th>\n",
              "    </tr>\n",
              "    <tr>\n",
              "      <th>order_id</th>\n",
              "      <th></th>\n",
              "      <th></th>\n",
              "      <th></th>\n",
              "      <th></th>\n",
              "      <th></th>\n",
              "      <th></th>\n",
              "      <th></th>\n",
              "    </tr>\n",
              "  </thead>\n",
              "  <tbody>\n",
              "    <tr>\n",
              "      <th>51655713</th>\n",
              "      <td>2.0</td>\n",
              "      <td>0.0</td>\n",
              "      <td>0.0</td>\n",
              "      <td>1.0</td>\n",
              "      <td>0.0</td>\n",
              "      <td>0.0</td>\n",
              "      <td>0.073766</td>\n",
              "    </tr>\n",
              "    <tr>\n",
              "      <th>37525839</th>\n",
              "      <td>5.0</td>\n",
              "      <td>0.0</td>\n",
              "      <td>0.0</td>\n",
              "      <td>1.0</td>\n",
              "      <td>0.0</td>\n",
              "      <td>0.0</td>\n",
              "      <td>0.008585</td>\n",
              "    </tr>\n",
              "    <tr>\n",
              "      <th>55058970</th>\n",
              "      <td>1.0</td>\n",
              "      <td>0.0</td>\n",
              "      <td>0.0</td>\n",
              "      <td>1.0</td>\n",
              "      <td>0.0</td>\n",
              "      <td>0.0</td>\n",
              "      <td>0.075901</td>\n",
              "    </tr>\n",
              "    <tr>\n",
              "      <th>15663447</th>\n",
              "      <td>6.0</td>\n",
              "      <td>0.0</td>\n",
              "      <td>1.0</td>\n",
              "      <td>0.0</td>\n",
              "      <td>0.0</td>\n",
              "      <td>0.0</td>\n",
              "      <td>0.007733</td>\n",
              "    </tr>\n",
              "    <tr>\n",
              "      <th>13325650</th>\n",
              "      <td>1.0</td>\n",
              "      <td>0.0</td>\n",
              "      <td>0.0</td>\n",
              "      <td>1.0</td>\n",
              "      <td>0.0</td>\n",
              "      <td>0.0</td>\n",
              "      <td>0.011140</td>\n",
              "    </tr>\n",
              "  </tbody>\n",
              "</table>\n",
              "</div>"
            ],
            "text/plain": [
              "          passenger_count  04-10  10-16  16-22  22-04  UNKNOWN  distance\n",
              "order_id                                                                \n",
              "51655713              2.0    0.0    0.0    1.0    0.0      0.0  0.073766\n",
              "37525839              5.0    0.0    0.0    1.0    0.0      0.0  0.008585\n",
              "55058970              1.0    0.0    0.0    1.0    0.0      0.0  0.075901\n",
              "15663447              6.0    0.0    1.0    0.0    0.0      0.0  0.007733\n",
              "13325650              1.0    0.0    0.0    1.0    0.0      0.0  0.011140"
            ]
          },
          "execution_count": 53,
          "metadata": {},
          "output_type": "execute_result"
        }
      ],
      "source": [
        "# Validate (JUST RUN THE CODE)\n",
        "print('Original data shape:', X_train.shape)\n",
        "print('Cleaned data shape :', X_train_clean.shape)\n",
        "X_train_clean.head()"
      ]
    },
    {
      "cell_type": "code",
      "execution_count": 54,
      "metadata": {
        "colab": {
          "base_uri": "https://localhost:8080/"
        },
        "id": "7_FpyWgVU5GH",
        "outputId": "5ee99cbd-959b-4934-ca11-04878a157ad7"
      },
      "outputs": [
        {
          "name": "stdout",
          "output_type": "stream",
          "text": [
            "numerical data shape =  (19481, 5)\n",
            "categorical data shape =  (19481, 5)\n",
            "concat data shape =  (19481, 10)\n",
            "\n",
            "\n",
            "original data shape =  (19481, 10)\n",
            "mapped data shape =  (19481, 7)\n",
            "\n",
            "\n",
            "numerical data shape =  (19482, 5)\n",
            "categorical data shape =  (19482, 5)\n",
            "concat data shape =  (19482, 10)\n",
            "\n",
            "\n",
            "original data shape =  (19482, 10)\n",
            "mapped data shape =  (19482, 7)\n",
            "\n",
            "\n"
          ]
        }
      ],
      "source": [
        "# Transform other set of data\n",
        "X_valid_clean = preprocess_data(X_valid, X_num_columns, X_cat_columns, num_imputer, cat_imputer, cat_encoder, scaler) # WRITE YOUR CODE HERE\n",
        "X_test_clean = preprocess_data(X_test, X_num_columns, X_cat_columns, num_imputer, cat_imputer, cat_encoder, scaler) # WRITE YOUR CODE HERE"
      ]
    },
    {
      "cell_type": "markdown",
      "metadata": {
        "id": "9urW_teAVgRu"
      },
      "source": [
        "### 3. Training Machine Learning Models (40 pts)\n",
        "---"
      ]
    },
    {
      "cell_type": "markdown",
      "metadata": {
        "id": "ZQBCdRAVVgRv"
      },
      "source": [
        "```\n",
        "3.1 Prepare train & evaluate model function\n",
        "3.2 Train & evaluate several models\n",
        "3.3 Choose the best model\n",
        "```"
      ]
    },
    {
      "cell_type": "markdown",
      "metadata": {
        "id": "Oh66SXYnWcYo"
      },
      "source": [
        "#### 3.1. Preprare train & evaluate model function (10 pts)\n",
        "---"
      ]
    },
    {
      "cell_type": "markdown",
      "metadata": {
        "id": "ZSqSP6iyWiYf"
      },
      "source": [
        "- Before modeling, let's prepare function to train & evaluate model"
      ]
    },
    {
      "cell_type": "code",
      "execution_count": 55,
      "metadata": {
        "id": "PXun1F0IWfjf"
      },
      "outputs": [],
      "source": [
        "####################################################\n",
        "# First, create a function to train model called train_model\n",
        "# - It needs 3 input\n",
        "#   - estimator, the model (sklearn model)\n",
        "#   - X_train, the input (pd.DataFrame)\n",
        "#   - y_train, the output (pd.DataFrame)\n",
        "# - You only fit the estimator using the X_train & y_train\n",
        "# - Then return nothing\n",
        "#\n",
        "# Next, create a function to evaluate model called evaluate_model\n",
        "# - It needs 5 input\n",
        "#   - estimator, the model (sklearn model)\n",
        "#   - X_train, the train input (pd.DataFrame)\n",
        "#   - y_train, the train output (pd.DataFrame)\n",
        "#   - X_valid, the valid input (pd.DataFrame)\n",
        "#   - y_valid, the valid output (pd.DataFrame)\n",
        "# - You calculate the model performance using root mean squared error metrics\n",
        "# - Then return two output, rmse_train and rmse_valid\n",
        "#\n",
        "# Write your code here\n",
        "####################################################\n",
        "from sklearn.metrics import mean_squared_error\n",
        "\n",
        "\n",
        "def train_model(estimator, X_train, y_train):\n",
        "    estimator.fit(X_train, y_train)\n",
        "\n",
        "def evaluate_model(estimator, X_train, y_train, X_valid, y_valid):\n",
        "    y_train_predict = estimator.predict(X_train)\n",
        "    rmse_train = np.sqrt(mean_squared_error(y_train, y_train_predict))\n",
        "    y_valid_predict = estimator.predict(X_valid)\n",
        "    rmse_valid = np.sqrt(mean_squared_error(y_valid, y_valid_predict))\n",
        "    return rmse_train, rmse_valid \n"
      ]
    },
    {
      "cell_type": "markdown",
      "metadata": {
        "id": "eBXTMmkaZHfo"
      },
      "source": [
        "#### 3.2. Train and Evaluate Several Models (10 pts)\n",
        "---"
      ]
    },
    {
      "cell_type": "markdown",
      "metadata": {
        "id": "rwv-WpIvZHfp"
      },
      "source": [
        "- Now, let's train & evaluate several models\n",
        "- You should check, which one of the following model is the best model\n",
        "\n",
        "  1. Baseline model\n",
        "  2. k-NN with k=1\n",
        "  3. k-NN with k=100\n",
        "  4. k-NN with k=200\n",
        "  5. k-NN with k=500\n",
        "  6. k-NN with k=len(data)"
      ]
    },
    {
      "cell_type": "code",
      "execution_count": 56,
      "metadata": {
        "id": "eZELHor_ZHfp"
      },
      "outputs": [],
      "source": [
        "####################################################\n",
        "# Create your model here (no need to create function)\n",
        "# Write your code here\n",
        "####################################################\n",
        "from sklearn.neighbors import KNeighborsRegressor\n",
        "from sklearn.dummy import DummyRegressor\n",
        "\n",
        "reg_1 = DummyRegressor() \n",
        "reg_2 = KNeighborsRegressor (n_neighbors = 1) \n",
        "reg_3 = KNeighborsRegressor (n_neighbors = 100) \n",
        "reg_4 = KNeighborsRegressor (n_neighbors = 200) \n",
        "reg_5 = KNeighborsRegressor (n_neighbors = 500)\n",
        "reg_6 = KNeighborsRegressor (n_neighbors = 1000) \n",
        "# k_len_data = len(X_train)\n",
        "# reg_6 = KNeighborsRegressor (n_neighbors = k_len_data) "
      ]
    },
    {
      "cell_type": "code",
      "execution_count": 57,
      "metadata": {
        "id": "HElSDZRbZFOR"
      },
      "outputs": [],
      "source": [
        "# Train the model (JUST RUN THE CODE)\n",
        "train_model(reg_1, X_train_clean, y_train)\n",
        "train_model(reg_2, X_train_clean, y_train)\n",
        "train_model(reg_3, X_train_clean, y_train)\n",
        "train_model(reg_4, X_train_clean, y_train)\n",
        "train_model(reg_5, X_train_clean, y_train)\n",
        "train_model(reg_6, X_train_clean, y_train)"
      ]
    },
    {
      "cell_type": "code",
      "execution_count": 58,
      "metadata": {
        "colab": {
          "base_uri": "https://localhost:8080/"
        },
        "id": "EK0Wkx66aRh8",
        "outputId": "3526563f-9bb3-4902-c2eb-5c57fd1c995f"
      },
      "outputs": [
        {
          "name": "stdout",
          "output_type": "stream",
          "text": [
            "model : DummyRegressor()                         | RMSE train: 8.9221 | RMSE valid: 8.8614 | Time elapsed: 6.36 ms\n",
            "model : KNeighborsRegressor(n_neighbors=1)       | RMSE train: 1.4133 | RMSE valid: 5.4129 | Time elapsed: 24513.75 ms\n",
            "model : KNeighborsRegressor(n_neighbors=100)     | RMSE train: 3.9538 | RMSE valid: 3.9799 | Time elapsed: 38420.76 ms\n",
            "model : KNeighborsRegressor(n_neighbors=200)     | RMSE train: 4.1439 | RMSE valid: 4.1333 | Time elapsed: 48115.43 ms\n",
            "model : KNeighborsRegressor(n_neighbors=500)     | RMSE train: 4.6310 | RMSE valid: 4.6287 | Time elapsed: 85620.81 ms\n",
            "model : KNeighborsRegressor(n_neighbors=1000)    | RMSE train: 5.1335 | RMSE valid: 5.1397 | Time elapsed: 146913.00 ms\n"
          ]
        }
      ],
      "source": [
        "# Return validation (JUST RUN THE CODE)\n",
        "import time\n",
        "\n",
        "for reg in [reg_1, reg_2, reg_3, reg_4, reg_5, reg_6]:\n",
        "    \n",
        "    \n",
        "    t0 = time.time()\n",
        "\n",
        "    # Generate the rmse\n",
        "    rmse_train, rmse_valid = evaluate_model(estimator=reg,\n",
        "                                            X_train=X_train_clean,\n",
        "                                            y_train=y_train,\n",
        "                                            X_valid=X_valid_clean,\n",
        "                                            y_valid=y_valid)\n",
        "\n",
        "    # Logging\n",
        "    elapsed = time.time() - t0\n",
        "    print(f'model : {str(reg):40s} '\n",
        "          f'| RMSE train: {rmse_train:.4f} '\n",
        "          f'| RMSE valid: {rmse_valid:.4f} '\n",
        "          f'| Time elapsed: {elapsed*1000:.2f} ms')"
      ]
    },
    {
      "cell_type": "markdown",
      "metadata": {
        "id": "ER-CnCxlePhg"
      },
      "source": [
        "#### 3.3. Choose the best model (20 pts)\n",
        "---"
      ]
    },
    {
      "cell_type": "markdown",
      "metadata": {
        "id": "neVBHKi3ePhh"
      },
      "source": [
        "From the previous results, which one is the best model? (10 pts)"
      ]
    },
    {
      "cell_type": "markdown",
      "metadata": {
        "id": "bpOAgKZDeZzp"
      },
      "source": [
        "```\n",
        "Answer in this section (you can use bahasa)\n",
        "best modelnya ada di angka 500"
      ]
    },
    {
      "cell_type": "markdown",
      "metadata": {
        "id": "IzZAZgtpegYd"
      },
      "source": [
        "Why do you choose that model? (10 pts)"
      ]
    },
    {
      "cell_type": "markdown",
      "metadata": {
        "id": "GtWV7CLhejjV"
      },
      "source": [
        "```\n",
        "Explain your answer in here (you can use bahasa)\n",
        "Karena selisih yang paling sedikit diantara model yang lain hanya 500 dan itu hanya selisih sedikit antara RMSE train dan RMSE valid"
      ]
    },
    {
      "cell_type": "markdown",
      "metadata": {
        "id": "wVZMoBjVetmx"
      },
      "source": [
        "And, create a `reg_best` to store the best model"
      ]
    },
    {
      "cell_type": "code",
      "execution_count": 59,
      "metadata": {
        "id": "iYbdAYmNe0B9"
      },
      "outputs": [],
      "source": [
        "# Write your code here\n",
        "reg_best = (reg_5) # Write your code here"
      ]
    },
    {
      "cell_type": "markdown",
      "metadata": {
        "id": "cq6iq5FwesuD"
      },
      "source": [
        "### 4. Predictions & Evaluations (JUST RUN THE CODE)\n",
        "---"
      ]
    },
    {
      "cell_type": "markdown",
      "metadata": {
        "id": "So1UmURDesuD"
      },
      "source": [
        "```\n",
        "4.1 Predict & Evaluate on the Train Data\n",
        "4.2 Predict & Evaluate on the Test Data\n",
        "```"
      ]
    },
    {
      "cell_type": "markdown",
      "metadata": {
        "id": "u_qdHfkefA9I"
      },
      "source": [
        "#### 4.1. Predict & evaluate on train data\n",
        "---"
      ]
    },
    {
      "cell_type": "code",
      "execution_count": 60,
      "metadata": {
        "id": "W_Tkv1IifKZd"
      },
      "outputs": [],
      "source": [
        "# Predict (JUST RUN THE CODE)\n",
        "y_train_pred = reg_best.predict(X_train_clean)"
      ]
    },
    {
      "cell_type": "code",
      "execution_count": 61,
      "metadata": {
        "colab": {
          "base_uri": "https://localhost:8080/",
          "height": 472
        },
        "id": "Xd-YpUxnfRAL",
        "outputId": "952d669b-29cf-4147-cb1d-071c0e109061"
      },
      "outputs": [
        {
          "data": {
            "image/png": "[encoded data removed]",
            "text/plain": [
              "<Figure size 640x480 with 1 Axes>"
            ]
          },
          "metadata": {},
          "output_type": "display_data"
        }
      ],
      "source": [
        "# Visualize & compare the prediction (JUST RUN THE CODE)\n",
        "plt.scatter(y_train, y_train_pred)\n",
        "\n",
        "plt.plot([0, 200], [0, 200], c='red')\n",
        "plt.xlim(0, 200); plt.ylim(0, 200)\n",
        "plt.xlabel('y actual'); plt.ylabel('y predicted')\n",
        "plt.title('Comparison of y actual vs y predicted on Train Data')\n",
        "plt.show()"
      ]
    },
    {
      "cell_type": "markdown",
      "metadata": {
        "id": "Q4V7-VcNfz02"
      },
      "source": [
        "#### 4.2. Predict & evaluate on test data\n",
        "---"
      ]
    },
    {
      "cell_type": "code",
      "execution_count": 62,
      "metadata": {
        "id": "mNlcNnQIfz03"
      },
      "outputs": [],
      "source": [
        "# Predict (JUST RUN THE CODE)\n",
        "y_test_pred = reg_best.predict(X_test_clean)"
      ]
    },
    {
      "cell_type": "code",
      "execution_count": 63,
      "metadata": {
        "colab": {
          "base_uri": "https://localhost:8080/",
          "height": 472
        },
        "id": "l3QE1IeTfz03",
        "outputId": "1a2e7e38-7ab1-443a-f843-39bcb1cd2b50"
      },
      "outputs": [
        {
          "data": {
            "image/png": "[encoded data removed]",
            "text/plain": [
              "<Figure size 640x480 with 1 Axes>"
            ]
          },
          "metadata": {},
          "output_type": "display_data"
        }
      ],
      "source": [
        "# Visualize & compare the prediction (JUST RUN THE CODE)\n",
        "plt.scatter(y_test, y_test_pred)\n",
        "\n",
        "plt.plot([0, 200], [0, 200], c='red')\n",
        "plt.xlim(0, 200); plt.ylim(0, 200)\n",
        "plt.xlabel('y actual'); plt.ylabel('y predicted')\n",
        "plt.title('Comparison of y actual vs y predicted on Test Data')\n",
        "plt.show()"
      ]
    },
    {
      "cell_type": "code",
      "execution_count": null,
      "metadata": {},
      "outputs": [],
      "source": []
    }
  ],
  "metadata": {
    "colab": {
      "collapsed_sections": [
        "0le3bfkbsWCu",
        "4VF3H55TwV1f",
        "VPfdLquFzsoI",
        "x_OE7Mklz1Ci",
        "2OzWPGFk3iwl",
        "MPzQ-1Wz3lgP",
        "zO3YDDwc5qQ-",
        "wZ5rwYBA88lQ",
        "TSolzD9z_NOc",
        "tUARDkuwIm7D",
        "1dyVifNK2fZA",
        "ICQiqto83TQ9",
        "e4PGfH5-7QRM",
        "VD93lAeX8ktW",
        "3oQY9GhDTUpI",
        "9urW_teAVgRu",
        "Oh66SXYnWcYo",
        "eBXTMmkaZHfo",
        "ER-CnCxlePhg",
        "cq6iq5FwesuD",
        "u_qdHfkefA9I",
        "Q4V7-VcNfz02"
      ],
      "provenance": []
    },
    "kernelspec": {
      "display_name": "Python 3",
      "name": "python3"
    },
    "language_info": {
      "codemirror_mode": {
        "name": "ipython",
        "version": 3
      },
      "file_extension": ".py",
      "mimetype": "text/x-python",
      "name": "python",
      "nbconvert_exporter": "python",
      "pygments_lexer": "ipython3",
      "version": "3.12.1"
    }
  },
  "nbformat": 4,
  "nbformat_minor": 0
}
